{
 "cells": [
  {
   "cell_type": "markdown",
   "id": "44c86c71",
   "metadata": {},
   "source": [
    "## 1. Downloading, importing necessary package and getting data"
   ]
  },
  {
   "cell_type": "code",
   "execution_count": 34,
   "id": "640343c8",
   "metadata": {},
   "outputs": [
    {
     "name": "stdout",
     "output_type": "stream",
     "text": [
      "Requirement already satisfied: pandas in /Users/rachel/Desktop/CS3244_PROJECT/.venv/lib/python3.12/site-packages (2.3.3)\n",
      "Requirement already satisfied: numpy>=1.26.0 in /Users/rachel/Desktop/CS3244_PROJECT/.venv/lib/python3.12/site-packages (from pandas) (2.3.3)\n",
      "Requirement already satisfied: python-dateutil>=2.8.2 in /Users/rachel/Desktop/CS3244_PROJECT/.venv/lib/python3.12/site-packages (from pandas) (2.9.0.post0)\n",
      "Requirement already satisfied: pytz>=2020.1 in /Users/rachel/Desktop/CS3244_PROJECT/.venv/lib/python3.12/site-packages (from pandas) (2025.2)\n",
      "Requirement already satisfied: tzdata>=2022.7 in /Users/rachel/Desktop/CS3244_PROJECT/.venv/lib/python3.12/site-packages (from pandas) (2025.2)\n",
      "Requirement already satisfied: six>=1.5 in /Users/rachel/Desktop/CS3244_PROJECT/.venv/lib/python3.12/site-packages (from python-dateutil>=2.8.2->pandas) (1.17.0)\n",
      "Note: you may need to restart the kernel to use updated packages.\n",
      "Requirement already satisfied: matplotlib in /Users/rachel/Desktop/CS3244_PROJECT/.venv/lib/python3.12/site-packages (3.10.7)\n",
      "Requirement already satisfied: contourpy>=1.0.1 in /Users/rachel/Desktop/CS3244_PROJECT/.venv/lib/python3.12/site-packages (from matplotlib) (1.3.3)\n",
      "Requirement already satisfied: cycler>=0.10 in /Users/rachel/Desktop/CS3244_PROJECT/.venv/lib/python3.12/site-packages (from matplotlib) (0.12.1)\n",
      "Requirement already satisfied: fonttools>=4.22.0 in /Users/rachel/Desktop/CS3244_PROJECT/.venv/lib/python3.12/site-packages (from matplotlib) (4.60.1)\n",
      "Requirement already satisfied: kiwisolver>=1.3.1 in /Users/rachel/Desktop/CS3244_PROJECT/.venv/lib/python3.12/site-packages (from matplotlib) (1.4.9)\n",
      "Requirement already satisfied: numpy>=1.23 in /Users/rachel/Desktop/CS3244_PROJECT/.venv/lib/python3.12/site-packages (from matplotlib) (2.3.3)\n",
      "Requirement already satisfied: packaging>=20.0 in /Users/rachel/Desktop/CS3244_PROJECT/.venv/lib/python3.12/site-packages (from matplotlib) (25.0)\n",
      "Requirement already satisfied: pillow>=8 in /Users/rachel/Desktop/CS3244_PROJECT/.venv/lib/python3.12/site-packages (from matplotlib) (11.3.0)\n",
      "Requirement already satisfied: pyparsing>=3 in /Users/rachel/Desktop/CS3244_PROJECT/.venv/lib/python3.12/site-packages (from matplotlib) (3.2.5)\n",
      "Requirement already satisfied: python-dateutil>=2.7 in /Users/rachel/Desktop/CS3244_PROJECT/.venv/lib/python3.12/site-packages (from matplotlib) (2.9.0.post0)\n",
      "Requirement already satisfied: six>=1.5 in /Users/rachel/Desktop/CS3244_PROJECT/.venv/lib/python3.12/site-packages (from python-dateutil>=2.7->matplotlib) (1.17.0)\n",
      "Note: you may need to restart the kernel to use updated packages.\n",
      "Requirement already satisfied: numpy in /Users/rachel/Desktop/CS3244_PROJECT/.venv/lib/python3.12/site-packages (2.3.3)\n",
      "Note: you may need to restart the kernel to use updated packages.\n",
      "Requirement already satisfied: seaborn in /Users/rachel/Desktop/CS3244_PROJECT/.venv/lib/python3.12/site-packages (0.13.2)\n",
      "Requirement already satisfied: numpy!=1.24.0,>=1.20 in /Users/rachel/Desktop/CS3244_PROJECT/.venv/lib/python3.12/site-packages (from seaborn) (2.3.3)\n",
      "Requirement already satisfied: pandas>=1.2 in /Users/rachel/Desktop/CS3244_PROJECT/.venv/lib/python3.12/site-packages (from seaborn) (2.3.3)\n",
      "Requirement already satisfied: matplotlib!=3.6.1,>=3.4 in /Users/rachel/Desktop/CS3244_PROJECT/.venv/lib/python3.12/site-packages (from seaborn) (3.10.7)\n",
      "Requirement already satisfied: contourpy>=1.0.1 in /Users/rachel/Desktop/CS3244_PROJECT/.venv/lib/python3.12/site-packages (from matplotlib!=3.6.1,>=3.4->seaborn) (1.3.3)\n",
      "Requirement already satisfied: cycler>=0.10 in /Users/rachel/Desktop/CS3244_PROJECT/.venv/lib/python3.12/site-packages (from matplotlib!=3.6.1,>=3.4->seaborn) (0.12.1)\n",
      "Requirement already satisfied: fonttools>=4.22.0 in /Users/rachel/Desktop/CS3244_PROJECT/.venv/lib/python3.12/site-packages (from matplotlib!=3.6.1,>=3.4->seaborn) (4.60.1)\n",
      "Requirement already satisfied: kiwisolver>=1.3.1 in /Users/rachel/Desktop/CS3244_PROJECT/.venv/lib/python3.12/site-packages (from matplotlib!=3.6.1,>=3.4->seaborn) (1.4.9)\n",
      "Requirement already satisfied: packaging>=20.0 in /Users/rachel/Desktop/CS3244_PROJECT/.venv/lib/python3.12/site-packages (from matplotlib!=3.6.1,>=3.4->seaborn) (25.0)\n",
      "Requirement already satisfied: pillow>=8 in /Users/rachel/Desktop/CS3244_PROJECT/.venv/lib/python3.12/site-packages (from matplotlib!=3.6.1,>=3.4->seaborn) (11.3.0)\n",
      "Requirement already satisfied: pyparsing>=3 in /Users/rachel/Desktop/CS3244_PROJECT/.venv/lib/python3.12/site-packages (from matplotlib!=3.6.1,>=3.4->seaborn) (3.2.5)\n",
      "Requirement already satisfied: python-dateutil>=2.7 in /Users/rachel/Desktop/CS3244_PROJECT/.venv/lib/python3.12/site-packages (from matplotlib!=3.6.1,>=3.4->seaborn) (2.9.0.post0)\n",
      "Requirement already satisfied: pytz>=2020.1 in /Users/rachel/Desktop/CS3244_PROJECT/.venv/lib/python3.12/site-packages (from pandas>=1.2->seaborn) (2025.2)\n",
      "Requirement already satisfied: tzdata>=2022.7 in /Users/rachel/Desktop/CS3244_PROJECT/.venv/lib/python3.12/site-packages (from pandas>=1.2->seaborn) (2025.2)\n",
      "Requirement already satisfied: six>=1.5 in /Users/rachel/Desktop/CS3244_PROJECT/.venv/lib/python3.12/site-packages (from python-dateutil>=2.7->matplotlib!=3.6.1,>=3.4->seaborn) (1.17.0)\n",
      "Note: you may need to restart the kernel to use updated packages.\n"
     ]
    }
   ],
   "source": [
    "%pip install pandas \n",
    "%pip install matplotlib\n",
    "%pip install numpy\n",
    "%pip install seaborn "
   ]
  },
  {
   "cell_type": "code",
   "execution_count": 35,
   "id": "ac0a3e2e",
   "metadata": {},
   "outputs": [],
   "source": [
    "import pandas as pd \n",
    "import matplotlib.pyplot as plt\n",
    "import numpy as np\n",
    "import seaborn as sns "
   ]
  },
  {
   "cell_type": "code",
   "execution_count": 36,
   "id": "bc0ac96d",
   "metadata": {},
   "outputs": [],
   "source": [
    "Application_Record_Data = pd.read_csv('application_record.csv')\n",
    "Credit_record = pd.read_csv('credit_record.csv')"
   ]
  },
  {
   "cell_type": "markdown",
   "id": "97f9c52a",
   "metadata": {},
   "source": [
    "## 2. Data Cleaning and Preprocessing"
   ]
  },
  {
   "cell_type": "markdown",
   "id": "70d0921e",
   "metadata": {},
   "source": [
    "### 2.1 Application Record Data"
   ]
  },
  {
   "cell_type": "markdown",
   "id": "690f0f4f",
   "metadata": {},
   "source": [
    "#### 2.1.1 Data Cleaning "
   ]
  },
  {
   "cell_type": "code",
   "execution_count": 37,
   "id": "8f551cf0",
   "metadata": {},
   "outputs": [
    {
     "name": "stdout",
     "output_type": "stream",
     "text": [
      "Application Record Info:\n",
      "Shape: (438557, 18)\n",
      "        ID CODE_GENDER FLAG_OWN_CAR FLAG_OWN_REALTY  CNT_CHILDREN  \\\n",
      "0  5008804           M            Y               Y             0   \n",
      "1  5008805           M            Y               Y             0   \n",
      "2  5008806           M            Y               Y             0   \n",
      "3  5008808           F            N               Y             0   \n",
      "4  5008809           F            N               Y             0   \n",
      "\n",
      "   AMT_INCOME_TOTAL      NAME_INCOME_TYPE            NAME_EDUCATION_TYPE  \\\n",
      "0          427500.0               Working               Higher education   \n",
      "1          427500.0               Working               Higher education   \n",
      "2          112500.0               Working  Secondary / secondary special   \n",
      "3          270000.0  Commercial associate  Secondary / secondary special   \n",
      "4          270000.0  Commercial associate  Secondary / secondary special   \n",
      "\n",
      "     NAME_FAMILY_STATUS  NAME_HOUSING_TYPE  DAYS_BIRTH  DAYS_EMPLOYED  \\\n",
      "0        Civil marriage   Rented apartment      -12005          -4542   \n",
      "1        Civil marriage   Rented apartment      -12005          -4542   \n",
      "2               Married  House / apartment      -21474          -1134   \n",
      "3  Single / not married  House / apartment      -19110          -3051   \n",
      "4  Single / not married  House / apartment      -19110          -3051   \n",
      "\n",
      "   FLAG_MOBIL  FLAG_WORK_PHONE  FLAG_PHONE  FLAG_EMAIL OCCUPATION_TYPE  \\\n",
      "0           1                1           0           0             NaN   \n",
      "1           1                1           0           0             NaN   \n",
      "2           1                0           0           0  Security staff   \n",
      "3           1                0           1           1     Sales staff   \n",
      "4           1                0           1           1     Sales staff   \n",
      "\n",
      "   CNT_FAM_MEMBERS  \n",
      "0              2.0  \n",
      "1              2.0  \n",
      "2              2.0  \n",
      "3              1.0  \n",
      "4              1.0  \n"
     ]
    }
   ],
   "source": [
    "print(\"Application Record Info:\")\n",
    "print(\"Shape:\", Application_Record_Data.shape)\n",
    "print(Application_Record_Data.head())"
   ]
  },
  {
   "cell_type": "code",
   "execution_count": 38,
   "id": "262f00bf",
   "metadata": {},
   "outputs": [
    {
     "name": "stdout",
     "output_type": "stream",
     "text": [
      "<class 'pandas.core.frame.DataFrame'>\n",
      "RangeIndex: 438557 entries, 0 to 438556\n",
      "Data columns (total 18 columns):\n",
      " #   Column               Non-Null Count   Dtype  \n",
      "---  ------               --------------   -----  \n",
      " 0   ID                   438557 non-null  int64  \n",
      " 1   CODE_GENDER          438557 non-null  object \n",
      " 2   FLAG_OWN_CAR         438557 non-null  object \n",
      " 3   FLAG_OWN_REALTY      438557 non-null  object \n",
      " 4   CNT_CHILDREN         438557 non-null  int64  \n",
      " 5   AMT_INCOME_TOTAL     438557 non-null  float64\n",
      " 6   NAME_INCOME_TYPE     438557 non-null  object \n",
      " 7   NAME_EDUCATION_TYPE  438557 non-null  object \n",
      " 8   NAME_FAMILY_STATUS   438557 non-null  object \n",
      " 9   NAME_HOUSING_TYPE    438557 non-null  object \n",
      " 10  DAYS_BIRTH           438557 non-null  int64  \n",
      " 11  DAYS_EMPLOYED        438557 non-null  int64  \n",
      " 12  FLAG_MOBIL           438557 non-null  int64  \n",
      " 13  FLAG_WORK_PHONE      438557 non-null  int64  \n",
      " 14  FLAG_PHONE           438557 non-null  int64  \n",
      " 15  FLAG_EMAIL           438557 non-null  int64  \n",
      " 16  OCCUPATION_TYPE      304354 non-null  object \n",
      " 17  CNT_FAM_MEMBERS      438557 non-null  float64\n",
      "dtypes: float64(2), int64(8), object(8)\n",
      "memory usage: 60.2+ MB\n"
     ]
    }
   ],
   "source": [
    "Application_Record_Data.info()"
   ]
  },
  {
   "cell_type": "code",
   "execution_count": 39,
   "id": "e2d061ae",
   "metadata": {},
   "outputs": [
    {
     "data": {
      "text/plain": [
       "0"
      ]
     },
     "execution_count": 39,
     "metadata": {},
     "output_type": "execute_result"
    }
   ],
   "source": [
    "sum(Application_Record_Data.duplicated() == True)\n",
    "#no duplicated rows "
   ]
  },
  {
   "cell_type": "code",
   "execution_count": 40,
   "id": "1170307b",
   "metadata": {},
   "outputs": [
    {
     "data": {
      "text/plain": [
       "ID                          0\n",
       "CODE_GENDER                 0\n",
       "FLAG_OWN_CAR                0\n",
       "FLAG_OWN_REALTY             0\n",
       "CNT_CHILDREN                0\n",
       "AMT_INCOME_TOTAL            0\n",
       "NAME_INCOME_TYPE            0\n",
       "NAME_EDUCATION_TYPE         0\n",
       "NAME_FAMILY_STATUS          0\n",
       "NAME_HOUSING_TYPE           0\n",
       "DAYS_BIRTH                  0\n",
       "DAYS_EMPLOYED               0\n",
       "FLAG_MOBIL                  0\n",
       "FLAG_WORK_PHONE             0\n",
       "FLAG_PHONE                  0\n",
       "FLAG_EMAIL                  0\n",
       "OCCUPATION_TYPE        134203\n",
       "CNT_FAM_MEMBERS             0\n",
       "dtype: int64"
      ]
     },
     "execution_count": 40,
     "metadata": {},
     "output_type": "execute_result"
    }
   ],
   "source": [
    "Application_Record_Data.isnull().sum()"
   ]
  },
  {
   "cell_type": "markdown",
   "id": "c3c5e012",
   "metadata": {},
   "source": [
    "An initial data quality check reveals that OCCUPATION_TYPE is the only column with missing values. To decide on a handling strategy, we first need to understand the extent of the issue."
   ]
  },
  {
   "cell_type": "code",
   "execution_count": 41,
   "id": "70f266b3",
   "metadata": {},
   "outputs": [
    {
     "name": "stdout",
     "output_type": "stream",
     "text": [
      "Percentage of missing values: 30.60%\n",
      "OCCUPATION_TYPE\n",
      "Laborers                 78240\n",
      "Core staff               43007\n",
      "Sales staff              41098\n",
      "Managers                 35487\n",
      "Drivers                  26090\n",
      "High skill tech staff    17289\n",
      "Accountants              15985\n",
      "Medicine staff           13520\n",
      "Cooking staff             8076\n",
      "Security staff            7993\n",
      "Cleaning staff            5845\n",
      "Private service staff     3456\n",
      "Low-skill Laborers        2140\n",
      "Secretaries               2044\n",
      "Waiters/barmen staff      1665\n",
      "Realty agents             1041\n",
      "HR staff                   774\n",
      "IT staff                   604\n",
      "Name: count, dtype: int64\n"
     ]
    }
   ],
   "source": [
    "total_count = len(Application_Record_Data)\n",
    "percentage_missing = (Application_Record_Data['OCCUPATION_TYPE'].isnull().sum()/ total_count) * 100\n",
    "print(f\"Percentage of missing values: {percentage_missing:.2f}%\")\n",
    "print(Application_Record_Data['OCCUPATION_TYPE'].value_counts())"
   ]
  },
  {
   "cell_type": "markdown",
   "id": "dd2c49fa",
   "metadata": {},
   "source": [
    "With 30.6% of OCCUPATION_TYPE values missing, deleting these rows would severely compromise the dataset's integrity. To preserve all records and maintain the structural integrity of the data, we will impute these missing entries with 'Unknown'. This strategy ensures no data is lost and treats the absence of this information as a distinct category for analysis."
   ]
  },
  {
   "cell_type": "code",
   "execution_count": 42,
   "id": "cd535cb0",
   "metadata": {},
   "outputs": [
    {
     "name": "stderr",
     "output_type": "stream",
     "text": [
      "/var/folders/s2/8t1jxlwd2v3592kx4gh1xvjh0000gn/T/ipykernel_50566/2808447467.py:2: FutureWarning: A value is trying to be set on a copy of a DataFrame or Series through chained assignment using an inplace method.\n",
      "The behavior will change in pandas 3.0. This inplace method will never work because the intermediate object on which we are setting values always behaves as a copy.\n",
      "\n",
      "For example, when doing 'df[col].method(value, inplace=True)', try using 'df.method({col: value}, inplace=True)' or df[col] = df[col].method(value) instead, to perform the operation inplace on the original object.\n",
      "\n",
      "\n",
      "  Application_Record_Data['OCCUPATION_TYPE'].fillna('Unknown', inplace=True)\n"
     ]
    }
   ],
   "source": [
    "#replacing the missing values\n",
    "Application_Record_Data['OCCUPATION_TYPE'].fillna('Unknown', inplace=True)"
   ]
  },
  {
   "cell_type": "code",
   "execution_count": 43,
   "id": "eb91d5b9",
   "metadata": {},
   "outputs": [
    {
     "data": {
      "text/plain": [
       "ID                     0\n",
       "CODE_GENDER            0\n",
       "FLAG_OWN_CAR           0\n",
       "FLAG_OWN_REALTY        0\n",
       "CNT_CHILDREN           0\n",
       "AMT_INCOME_TOTAL       0\n",
       "NAME_INCOME_TYPE       0\n",
       "NAME_EDUCATION_TYPE    0\n",
       "NAME_FAMILY_STATUS     0\n",
       "NAME_HOUSING_TYPE      0\n",
       "DAYS_BIRTH             0\n",
       "DAYS_EMPLOYED          0\n",
       "FLAG_MOBIL             0\n",
       "FLAG_WORK_PHONE        0\n",
       "FLAG_PHONE             0\n",
       "FLAG_EMAIL             0\n",
       "OCCUPATION_TYPE        0\n",
       "CNT_FAM_MEMBERS        0\n",
       "dtype: int64"
      ]
     },
     "execution_count": 43,
     "metadata": {},
     "output_type": "execute_result"
    }
   ],
   "source": [
    "#checking if there are any missing valus left\n",
    "Application_Record_Data.isnull().sum()"
   ]
  },
  {
   "cell_type": "markdown",
   "id": "8ca0d3cd",
   "metadata": {},
   "source": [
    "From above, we can see that some of the columns have a data type, such as object or int64, that does not accurately represent their underlying categorical nature. Columns like CODE_GENDER, FLAG_OWN_CAR, and the various flags represent distinct groups or binary states, not numerical quantities. Therefore, we will convert them to the category data type. This is a crucial step for both memory optimization and ensuring these features are treated correctly during visualization and analysis"
   ]
  },
  {
   "cell_type": "code",
   "execution_count": 44,
   "id": "44620785",
   "metadata": {},
   "outputs": [
    {
     "name": "stdout",
     "output_type": "stream",
     "text": [
      "<class 'pandas.core.frame.DataFrame'>\n",
      "RangeIndex: 438557 entries, 0 to 438556\n",
      "Data columns (total 18 columns):\n",
      " #   Column               Non-Null Count   Dtype   \n",
      "---  ------               --------------   -----   \n",
      " 0   ID                   438557 non-null  int64   \n",
      " 1   CODE_GENDER          438557 non-null  category\n",
      " 2   FLAG_OWN_CAR         438557 non-null  category\n",
      " 3   FLAG_OWN_REALTY      438557 non-null  category\n",
      " 4   CNT_CHILDREN         438557 non-null  int64   \n",
      " 5   AMT_INCOME_TOTAL     438557 non-null  float64 \n",
      " 6   NAME_INCOME_TYPE     438557 non-null  category\n",
      " 7   NAME_EDUCATION_TYPE  438557 non-null  category\n",
      " 8   NAME_FAMILY_STATUS   438557 non-null  category\n",
      " 9   NAME_HOUSING_TYPE    438557 non-null  category\n",
      " 10  DAYS_BIRTH           438557 non-null  int64   \n",
      " 11  DAYS_EMPLOYED        438557 non-null  int64   \n",
      " 12  FLAG_MOBIL           438557 non-null  category\n",
      " 13  FLAG_WORK_PHONE      438557 non-null  category\n",
      " 14  FLAG_PHONE           438557 non-null  category\n",
      " 15  FLAG_EMAIL           438557 non-null  category\n",
      " 16  OCCUPATION_TYPE      438557 non-null  category\n",
      " 17  CNT_FAM_MEMBERS      438557 non-null  float64 \n",
      "dtypes: category(12), float64(2), int64(4)\n",
      "memory usage: 25.1 MB\n"
     ]
    }
   ],
   "source": [
    "categorical_cols = [\n",
    "    'CODE_GENDER',\n",
    "    'FLAG_OWN_CAR',\n",
    "    'FLAG_OWN_REALTY',\n",
    "    'NAME_INCOME_TYPE',\n",
    "    'NAME_EDUCATION_TYPE',\n",
    "    'NAME_FAMILY_STATUS',\n",
    "    'NAME_HOUSING_TYPE',\n",
    "    'OCCUPATION_TYPE',\n",
    "    'FLAG_MOBIL',\n",
    "    'FLAG_WORK_PHONE',\n",
    "    'FLAG_PHONE',\n",
    "    'FLAG_EMAIL'\n",
    "]\n",
    "\n",
    "for col in categorical_cols:\n",
    "    Application_Record_Data[col] = Application_Record_Data[col].astype('category')\n",
    "\n",
    "Application_Record_Data.info()"
   ]
  },
  {
   "cell_type": "markdown",
   "id": "7b346012",
   "metadata": {},
   "source": [
    "#### 2.1.2 Exploratory Data Analysis (EDA)"
   ]
  },
  {
   "cell_type": "code",
   "execution_count": 63,
   "id": "4edd6d2c",
   "metadata": {},
   "outputs": [
    {
     "data": {
      "text/plain": [
       "Text(0.5, 1.0, 'Distribution of Total Income (Applicants)')"
      ]
     },
     "execution_count": 63,
     "metadata": {},
     "output_type": "execute_result"
    },
    {
     "data": {
      "image/png": "[encoded data removed]",
      "text/plain": [
       "<Figure size 640x480 with 1 Axes>"
      ]
     },
     "metadata": {},
     "output_type": "display_data"
    }
   ],
   "source": [
    "sns.histplot(Application_Record_Data, x = 'AMT_INCOME_TOTAL')\n",
    "\n",
    "sns.set_theme(style=\"whitegrid\")\n",
    "\n",
    "sns.histplot(Application_Record_Data, \n",
    "             x = 'AMT_INCOME_TOTAL',\n",
    "             bins=50,              \n",
    "             color='steelblue', \n",
    "             edgecolor='white', \n",
    "             linewidth=0.8)\n",
    "\n",
    "plt.title(\n",
    "    'Distribution of Total Income (Applicants)',\n",
    "    fontsize=16,\n",
    "    fontweight='bold',\n",
    "    pad=20)"
   ]
  },
  {
   "cell_type": "code",
   "execution_count": null,
   "id": "1aafe2d5",
   "metadata": {},
   "outputs": [
    {
     "name": "stdout",
     "output_type": "stream",
     "text": [
      "26100.0\n",
      "6750000.0\n"
     ]
    }
   ],
   "source": [
    "print(Application_Record_Data.AMT_INCOME_TOTAL.min())\n",
    "print(Application_Record_Data.AMT_INCOME_TOTAL.max())\n"
   ]
  },
  {
   "cell_type": "markdown",
   "id": "e8104e46",
   "metadata": {},
   "source": [
    "While the histogram for AMT_INCOME_TOTAL might seem unusual, its shape is a classic example of a highly right-skewed distribution. The root cause is the vast scale of the data, driven by significant outliers. To illustrate, the income data spans from a minimum of 26100 to 6750000. This huge disparity forces the plot's axis to accommodate these very high values, which in turn compresses the visualization of the more densely populated, lower-income brackets. Since we understand that machine learning models, particularly those sensitive to feature scale like k-Nearest Neighbours, will not perform well with such skewed data. Hence, we have to do further feature engineering on this column in later segment."
   ]
  },
  {
   "cell_type": "markdown",
   "id": "02c4dde1",
   "metadata": {},
   "source": [
    "#### 2.1.3 Feature Engineering"
   ]
  },
  {
   "cell_type": "code",
   "execution_count": 62,
   "id": "cc2d0748",
   "metadata": {},
   "outputs": [
    {
     "data": {
      "text/plain": [
       "Text(0.5, 1.0, 'Distribution of Log-Transformed Total Income (Applicants)')"
      ]
     },
     "execution_count": 62,
     "metadata": {},
     "output_type": "execute_result"
    },
    {
     "data": {
      "image/png": "[encoded data removed]",
      "text/plain": [
       "<Figure size 640x480 with 1 Axes>"
      ]
     },
     "metadata": {},
     "output_type": "display_data"
    }
   ],
   "source": [
    "Application_Record_Data['AMT_INCOME_LOG'] = np.log1p(Application_Record_Data['AMT_INCOME_TOTAL'])\n",
    "\n",
    "sns.set_theme(style=\"whitegrid\")\n",
    "\n",
    "sns.histplot(Application_Record_Data, \n",
    "             x = 'AMT_INCOME_LOG',\n",
    "             bins=50,               \n",
    "             color='steelblue', \n",
    "             edgecolor='white', \n",
    "             linewidth=0.8)\n",
    "\n",
    "plt.title(\n",
    "    'Distribution of Log-Transformed Total Income (Applicants)',\n",
    "    fontsize=16,\n",
    "    fontweight='bold',\n",
    "    pad=20)\n"
   ]
  },
  {
   "cell_type": "markdown",
   "id": "1bd6c793",
   "metadata": {},
   "source": [
    "After applying the logarithm transformation, the new histogram is now approximately normal. As seen in the histogram, this transformation effectively mitigates the impact of extreme outliers and provides a much clearer view of the central tendency and spread of applicant incomes, making it a more suitable feature for our predictive models."
   ]
  }
 ],
 "metadata": {
  "kernelspec": {
   "display_name": ".venv (3.12.5)",
   "language": "python",
   "name": "python3"
  },
  "language_info": {
   "codemirror_mode": {
    "name": "ipython",
    "version": 3
   },
   "file_extension": ".py",
   "mimetype": "text/x-python",
   "name": "python",
   "nbconvert_exporter": "python",
   "pygments_lexer": "ipython3",
   "version": "3.12.5"
  }
 },
 "nbformat": 4,
 "nbformat_minor": 5
}
