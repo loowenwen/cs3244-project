{
 "cells": [
  {
   "cell_type": "markdown",
   "id": "361a4c5a",
   "metadata": {},
   "source": [
    "## Data Processing \n",
    "This notebook prepares cleaned data for the machine learning models.\n",
    "\n",
    "Steps:\n",
    "\n",
    "1. Load cleaned data (output of `data_cleaning.ipynb`)\n",
    "\n",
    "2. Train Test Split the data \n",
    "\n",
    "3. Encode Categorical Features and Scaling Numeric Features \n",
    "\n",
    "4. Handle Class Imbalance"
   ]
  },
  {
   "cell_type": "code",
   "execution_count": null,
   "id": "42566e63",
   "metadata": {
    "vscode": {
     "languageId": "plaintext"
    }
   },
   "outputs": [],
   "source": [
    "import pandas as pd\n",
    "import numpy as np\n",
    "from sklearn.preprocessing import StandardScaler\n",
    "from sklearn.model_selection import train_test_split\n",
    "from imblearn.over_sampling import SMOTE"
   ]
  }
 ],
 "metadata": {
  "language_info": {
   "name": "python"
  }
 },
 "nbformat": 4,
 "nbformat_minor": 5
}
