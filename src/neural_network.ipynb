{
 "cells": [
  {
   "cell_type": "markdown",
   "id": "98c24ae2",
   "metadata": {},
   "source": [
    "# Neural Network"
   ]
  },
  {
   "cell_type": "markdown",
   "id": "8d86df3b",
   "metadata": {},
   "source": [
    "## Import Necessary Packages"
   ]
  },
  {
   "cell_type": "code",
   "execution_count": 1,
   "id": "a993eea4",
   "metadata": {},
   "outputs": [],
   "source": [
    "import copy\n",
    "import random\n",
    "\n",
    "import numpy as np\n",
    "import pandas as pd\n",
    "import matplotlib.pyplot as plt\n",
    "from sklearn.model_selection import train_test_split\n",
    "from sklearn.preprocessing import MinMaxScaler\n",
    "from collections import Counter\n",
    "from imblearn.over_sampling import SMOTE\n",
    "import torch\n",
    "import torch.nn as nn\n",
    "import torch.optim as optim\n",
    "from torch.optim.lr_scheduler import ReduceLROnPlateau\n",
    "from torch.utils.data import DataLoader, TensorDataset\n",
    "from sklearn.metrics import classification_report, confusion_matrix, roc_auc_score, roc_curve\n"
   ]
  },
  {
   "cell_type": "code",
   "execution_count": 2,
   "id": "eded4889",
   "metadata": {},
   "outputs": [
    {
     "data": {
      "text/plain": [
       "device(type='cpu')"
      ]
     },
     "execution_count": 2,
     "metadata": {},
     "output_type": "execute_result"
    }
   ],
   "source": [
    "# set deterministic behaviour so tuning experiments are reproducible\n",
    "SEED = 42\n",
    "random.seed(SEED)\n",
    "np.random.seed(SEED)\n",
    "torch.manual_seed(SEED)\n",
    "if torch.cuda.is_available():\n",
    "    torch.cuda.manual_seed_all(SEED)\n",
    "    torch.backends.cudnn.deterministic = True\n",
    "    torch.backends.cudnn.benchmark = False\n",
    "\n",
    "device = torch.device(\"cuda\" if torch.cuda.is_available() else \"cpu\")\n",
    "device\n"
   ]
  },
  {
   "cell_type": "markdown",
   "id": "80a905dd",
   "metadata": {},
   "source": [
    "## Data Preprocessing"
   ]
  },
  {
   "cell_type": "code",
   "execution_count": 15,
   "id": "4230ed8d",
   "metadata": {},
   "outputs": [
    {
     "name": "stdout",
     "output_type": "stream",
     "text": [
      "        id  code_gender  flag_own_car  flag_own_realty  cnt_children  \\\n",
      "0  5008804            1             1                1             0   \n",
      "1  5008806            1             1                1             0   \n",
      "2  5008808            0             0                1             0   \n",
      "3  5008812            0             0                1             0   \n",
      "4  5008815            1             1                1             0   \n",
      "\n",
      "   amt_income_total      name_income_type            name_education_type  \\\n",
      "0          427500.0               Working               Higher education   \n",
      "1          112500.0               Working  Secondary / secondary special   \n",
      "2          270000.0  Commercial associate  Secondary / secondary special   \n",
      "3          283500.0             Pensioner               Higher education   \n",
      "4          270000.0               Working               Higher education   \n",
      "\n",
      "     name_family_status  name_housing_type  ...  cnt_fam_members  age  \\\n",
      "0        Civil marriage   Rented apartment  ...                2   32   \n",
      "1               Married  House / apartment  ...                2   58   \n",
      "2  Single / not married  House / apartment  ...                1   52   \n",
      "3             Separated  House / apartment  ...                1   61   \n",
      "4               Married  House / apartment  ...                2   46   \n",
      "\n",
      "   is_employed  years_employed amt_income_log  max_delay  avg_delay  \\\n",
      "0            1       12.435318      12.965712          1   0.000000   \n",
      "1            1        3.104723      11.630717          0  -0.533333   \n",
      "2            1        8.353183      12.506181          0  -0.600000   \n",
      "3            0        0.000000      12.554971          0  -0.176471   \n",
      "4            1        2.105407      12.506181          0   0.000000   \n",
      "\n",
      "   num_bad_months  months_total  label  \n",
      "0               0            16      0  \n",
      "1               0            30      0  \n",
      "2               0             5      0  \n",
      "3               0            17      0  \n",
      "4               0             6      0  \n",
      "\n",
      "[5 rows x 25 columns]\n",
      "Index(['id', 'code_gender', 'flag_own_car', 'flag_own_realty', 'cnt_children',\n",
      "       'amt_income_total', 'name_income_type', 'name_education_type',\n",
      "       'name_family_status', 'name_housing_type', 'flag_mobil',\n",
      "       'flag_work_phone', 'flag_phone', 'flag_email', 'occupation_type',\n",
      "       'cnt_fam_members', 'age', 'is_employed', 'years_employed',\n",
      "       'amt_income_log', 'max_delay', 'avg_delay', 'num_bad_months',\n",
      "       'months_total', 'label'],\n",
      "      dtype='object')\n",
      "(9709, 25)\n"
     ]
    }
   ],
   "source": [
    "# read in cleaned merged data\n",
    "df = pd.read_csv(\"../data/clean_merged.csv\")\n",
    "print(df.head())\n",
    "print(df.columns)\n",
    "print(df.shape)"
   ]
  },
  {
   "cell_type": "code",
   "execution_count": 4,
   "id": "bcb5a476",
   "metadata": {},
   "outputs": [],
   "source": [
    "# remove columns that are not relevant for prediction\n",
    "# leaky features that would not be available at prediction time\n",
    "leaky_features = ['max_delay', 'avg_delay', 'num_bad_months', 'months_total']\n",
    "# labels and ids would not be useful for prediction\n",
    "X = df.drop(columns=['label', 'id', 'amt_income_total'] + leaky_features)\n",
    "y = df['label'].astype('int')"
   ]
  },
  {
   "cell_type": "code",
   "execution_count": 5,
   "id": "034beb17",
   "metadata": {},
   "outputs": [
    {
     "data": {
      "text/plain": [
       "Index(['code_gender', 'flag_own_car', 'flag_own_realty', 'cnt_children',\n",
       "       'flag_mobil', 'flag_work_phone', 'flag_phone', 'flag_email',\n",
       "       'cnt_fam_members', 'age', 'is_employed', 'years_employed',\n",
       "       'amt_income_log', 'name_income_type_Pensioner',\n",
       "       'name_income_type_State servant', 'name_income_type_Student',\n",
       "       'name_income_type_Working', 'name_education_type_Higher education',\n",
       "       'name_education_type_Incomplete higher',\n",
       "       'name_education_type_Lower secondary',\n",
       "       'name_education_type_Secondary / secondary special',\n",
       "       'name_family_status_Married', 'name_family_status_Separated',\n",
       "       'name_family_status_Single / not married', 'name_family_status_Widow',\n",
       "       'name_housing_type_House / apartment',\n",
       "       'name_housing_type_Municipal apartment',\n",
       "       'name_housing_type_Office apartment',\n",
       "       'name_housing_type_Rented apartment', 'name_housing_type_With parents',\n",
       "       'occupation_type_Cleaning staff', 'occupation_type_Cooking staff',\n",
       "       'occupation_type_Core staff', 'occupation_type_Drivers',\n",
       "       'occupation_type_HR staff', 'occupation_type_High skill tech staff',\n",
       "       'occupation_type_IT staff', 'occupation_type_Laborers',\n",
       "       'occupation_type_Low-skill Laborers', 'occupation_type_Managers',\n",
       "       'occupation_type_Medicine staff',\n",
       "       'occupation_type_Private service staff',\n",
       "       'occupation_type_Realty agents', 'occupation_type_Sales staff',\n",
       "       'occupation_type_Secretaries', 'occupation_type_Security staff',\n",
       "       'occupation_type_Unknown', 'occupation_type_Waiters/barmen staff'],\n",
       "      dtype='object')"
      ]
     },
     "execution_count": 5,
     "metadata": {},
     "output_type": "execute_result"
    }
   ],
   "source": [
    "categorical_cols = X.select_dtypes(include=['object', 'category']).columns\n",
    "if len(categorical_cols) > 0:\n",
    "    X_encoded = pd.get_dummies(X, columns=categorical_cols, drop_first=True)\n",
    "else:\n",
    "    X_encoded = X\n",
    "\n",
    "X_encoded.head()\n",
    "X_encoded.columns"
   ]
  },
  {
   "cell_type": "code",
   "execution_count": 6,
   "id": "2a8aeacf",
   "metadata": {},
   "outputs": [
    {
     "data": {
      "text/plain": [
       "(Counter({0: 6842, 1: 148}),\n",
       " Counter({0: 760, 1: 17}),\n",
       " Counter({0: 1901, 1: 41}))"
      ]
     },
     "execution_count": 6,
     "metadata": {},
     "output_type": "execute_result"
    }
   ],
   "source": [
    "# split once for train/validation/test so evaluation stays unbiased\n",
    "\n",
    "# split into train (72%), val (8%), test (20%)\n",
    "X_train_full, X_test, y_train_full, y_test = train_test_split(\n",
    "    X_encoded,\n",
    "    y,\n",
    "    test_size=0.2,\n",
    "    random_state=SEED,\n",
    "    stratify=y,\n",
    ")\n",
    "\n",
    "X_train, X_val, y_train, y_val = train_test_split(\n",
    "    X_train_full,\n",
    "    y_train_full,\n",
    "    test_size=0.1,\n",
    "    random_state=SEED,\n",
    "    stratify=y_train_full,\n",
    ")\n",
    "\n",
    "scaler = MinMaxScaler()\n",
    "# min-max scale on train set, apply to val and test sets\n",
    "X_train_scaled = scaler.fit_transform(X_train)\n",
    "X_val_scaled = scaler.transform(X_val)\n",
    "X_test_scaled = scaler.transform(X_test)\n",
    "\n",
    "# check class distribution in each split\n",
    "train_class_counts = Counter(y_train)\n",
    "val_class_counts = Counter(y_val)\n",
    "test_class_counts = Counter(y_test)\n",
    "\n",
    "train_class_counts, val_class_counts, test_class_counts\n"
   ]
  },
  {
   "cell_type": "code",
   "execution_count": 7,
   "id": "34d3e4a8",
   "metadata": {},
   "outputs": [
    {
     "name": "stdout",
     "output_type": "stream",
     "text": [
      "Original training distribution: Counter({0: 6842, 1: 148})\n",
      "Balanced training distribution: Counter({0: 6842, 1: 6842})\n"
     ]
    }
   ],
   "source": [
    "# balance only the training fold; keep validation/test untouched\n",
    "smote = SMOTE(random_state=SEED)\n",
    "X_train_balanced, y_train_balanced = smote.fit_resample(X_train_scaled, y_train)\n",
    "\n",
    "print(\"Original training distribution:\", train_class_counts)\n",
    "print(\"Balanced training distribution:\", Counter(y_train_balanced))\n",
    "\n",
    "# compute pos_weight for BCEWithLogitsLoss\n",
    "pos_weight_value = train_class_counts[0] / train_class_counts[1]\n",
    "pos_weight = torch.tensor([pos_weight_value], dtype=torch.float32, device=device)\n"
   ]
  },
  {
   "cell_type": "code",
   "execution_count": 8,
   "id": "f0623f24",
   "metadata": {},
   "outputs": [],
   "source": [
    "# build tensors and loaders; batches move to GPU/CPU device inside the loop\n",
    "X_train_tensor = torch.tensor(X_train_balanced, dtype=torch.float32)\n",
    "y_train_tensor = torch.tensor(np.array(y_train_balanced).reshape(-1, 1), dtype=torch.float32)\n",
    "X_val_tensor = torch.tensor(X_val_scaled, dtype=torch.float32)\n",
    "y_val_tensor = torch.tensor(y_val.to_numpy().reshape(-1, 1), dtype=torch.float32)\n",
    "X_test_tensor = torch.tensor(X_test_scaled, dtype=torch.float32)\n",
    "y_test_tensor = torch.tensor(y_test.to_numpy().reshape(-1, 1), dtype=torch.float32)\n",
    "\n",
    "batch_size = 256\n",
    "\n",
    "train_dataset = TensorDataset(X_train_tensor, y_train_tensor)\n",
    "val_dataset = TensorDataset(X_val_tensor, y_val_tensor)\n",
    "test_dataset = TensorDataset(X_test_tensor, y_test_tensor)\n",
    "\n",
    "train_loader = DataLoader(train_dataset, batch_size=batch_size, shuffle=True)\n",
    "val_loader = DataLoader(val_dataset, batch_size=batch_size)\n",
    "test_loader = DataLoader(test_dataset, batch_size=batch_size)\n"
   ]
  },
  {
   "cell_type": "markdown",
   "id": "ced002ec",
   "metadata": {},
   "source": [
    "## Neural Network Set Up"
   ]
  },
  {
   "cell_type": "code",
   "execution_count": 9,
   "id": "fc585df2",
   "metadata": {},
   "outputs": [],
   "source": [
    "# three-layer MLP that emits logits; dropout helps regularise high-dimensional features\n",
    "class NN(nn.Module):\n",
    "    def __init__(self, input_dim, hidden_layers=128, dropout_rate=0.2):\n",
    "        super().__init__()\n",
    "        self.layer1 = nn.Linear(input_dim, hidden_layers)\n",
    "        self.act1 = nn.ReLU()\n",
    "        self.drop1 = nn.Dropout(dropout_rate)\n",
    "\n",
    "        self.layer2 = nn.Linear(hidden_layers, hidden_layers)\n",
    "        self.act2 = nn.ReLU()\n",
    "        self.drop2 = nn.Dropout(dropout_rate)\n",
    "\n",
    "        self.layer3 = nn.Linear(hidden_layers, hidden_layers)\n",
    "        self.act3 = nn.ReLU()\n",
    "        self.drop3 = nn.Dropout(dropout_rate)\n",
    "\n",
    "        self.output = nn.Linear(hidden_layers, 1)\n",
    "\n",
    "    def forward(self, x):\n",
    "        x = self.drop1(self.act1(self.layer1(x)))\n",
    "        x = self.drop2(self.act2(self.layer2(x)))\n",
    "        x = self.drop3(self.act3(self.layer3(x)))\n",
    "        x = self.output(x)\n",
    "        return x\n"
   ]
  },
  {
   "cell_type": "markdown",
   "id": "f400703c",
   "metadata": {},
   "source": [
    "## Neural Network Training"
   ]
  },
  {
   "cell_type": "code",
   "execution_count": 10,
   "id": "728a456a",
   "metadata": {},
   "outputs": [],
   "source": [
    "input_dim = X_train_tensor.shape[1]  # get number of features after encoding\n",
    "nn_base_model = NN(input_dim).to(device)\n",
    "\n",
    "# weighted loss + regularisation to reflect true imbalance and stabilise training\n",
    "criterion = nn.BCEWithLogitsLoss(pos_weight=pos_weight)\n",
    "optimizer = optim.Adam(nn_base_model.parameters(), lr=0.001, weight_decay=1e-4)\n",
    "scheduler = ReduceLROnPlateau(optimizer, mode=\"min\", factor=0.5, patience=3)\n",
    "\n",
    "epochs = 80\n",
    "patience = 10\n",
    "train_losses = []\n",
    "val_losses = []\n",
    "val_accuracies = []\n",
    "val_aucs = []\n",
    "best_val_loss = float(\"inf\")\n",
    "early_stop_counter = 0\n",
    "best_state_dict = copy.deepcopy(nn_base_model.state_dict())\n"
   ]
  },
  {
   "cell_type": "code",
   "execution_count": 11,
   "id": "87bb5752",
   "metadata": {},
   "outputs": [
    {
     "name": "stdout",
     "output_type": "stream",
     "text": [
      "Epoch 1/80, Train Loss: 5.4029, Val Loss: 3.5531, Val Acc: 0.0219, Val AUC: 0.5838\n",
      "Epoch 2/80, Train Loss: 2.2015, Val Loss: 2.9701, Val Acc: 0.0219, Val AUC: 0.6017\n",
      "Epoch 3/80, Train Loss: 1.9127, Val Loss: 2.5442, Val Acc: 0.1609, Val AUC: 0.5974\n",
      "Epoch 4/80, Train Loss: 1.5400, Val Loss: 1.9668, Val Acc: 0.4788, Val AUC: 0.5760\n",
      "Epoch 5/80, Train Loss: 1.2820, Val Loss: 2.1589, Val Acc: 0.5367, Val AUC: 0.5895\n",
      "Epoch 6/80, Train Loss: 1.0962, Val Loss: 2.4938, Val Acc: 0.5985, Val AUC: 0.5660\n",
      "Epoch 7/80, Train Loss: 0.9995, Val Loss: 2.5890, Val Acc: 0.6770, Val AUC: 0.5877\n",
      "Epoch 8/80, Train Loss: 0.9120, Val Loss: 2.7629, Val Acc: 0.7452, Val AUC: 0.5947\n",
      "Epoch 9/80, Train Loss: 0.8597, Val Loss: 2.9385, Val Acc: 0.7169, Val AUC: 0.5844\n",
      "Epoch 10/80, Train Loss: 0.7883, Val Loss: 3.2179, Val Acc: 0.7297, Val AUC: 0.5803\n",
      "Epoch 11/80, Train Loss: 0.7558, Val Loss: 3.3471, Val Acc: 0.7683, Val AUC: 0.5882\n",
      "Epoch 12/80, Train Loss: 0.7369, Val Loss: 3.4022, Val Acc: 0.7722, Val AUC: 0.5860\n",
      "Epoch 13/80, Train Loss: 0.7117, Val Loss: 3.5097, Val Acc: 0.7619, Val AUC: 0.5847\n",
      "Epoch 14/80, Train Loss: 0.6906, Val Loss: 3.6646, Val Acc: 0.7696, Val AUC: 0.5782\n",
      "Early stopping triggered at epoch 14\n"
     ]
    },
    {
     "data": {
      "text/plain": [
       "<All keys matched successfully>"
      ]
     },
     "execution_count": 11,
     "metadata": {},
     "output_type": "execute_result"
    }
   ],
   "source": [
    "for epoch in range(epochs):\n",
    "    nn_base_model.train()\n",
    "    epoch_loss = 0.0\n",
    "\n",
    "    for X_batch, Y_batch in train_loader:\n",
    "        X_batch = X_batch.to(device)\n",
    "        Y_batch = Y_batch.to(device)\n",
    "\n",
    "        optimizer.zero_grad()\n",
    "        logits = nn_base_model(X_batch)\n",
    "        loss = criterion(logits, Y_batch)\n",
    "        loss.backward()\n",
    "        torch.nn.utils.clip_grad_norm_(nn_base_model.parameters(), max_norm=1.0)\n",
    "        optimizer.step()\n",
    "\n",
    "        epoch_loss += loss.item()\n",
    "\n",
    "    avg_train_loss = epoch_loss / len(train_loader)\n",
    "    train_losses.append(avg_train_loss)\n",
    "\n",
    "    nn_base_model.eval()\n",
    "    val_loss = 0.0\n",
    "    val_logits = []\n",
    "    val_targets = []\n",
    "\n",
    "    with torch.no_grad():\n",
    "        for X_batch, Y_batch in val_loader:\n",
    "            X_batch = X_batch.to(device)\n",
    "            Y_batch = Y_batch.to(device)\n",
    "\n",
    "            logits = nn_base_model(X_batch)\n",
    "            loss = criterion(logits, Y_batch)\n",
    "\n",
    "            val_loss += loss.item()\n",
    "            val_logits.append(logits.cpu())\n",
    "            val_targets.append(Y_batch.cpu())\n",
    "\n",
    "    avg_val_loss = val_loss / len(val_loader)\n",
    "    val_losses.append(avg_val_loss)\n",
    "    scheduler.step(avg_val_loss)\n",
    "\n",
    "    logits_tensor = torch.cat(val_logits).squeeze()\n",
    "    targets_tensor = torch.cat(val_targets).squeeze()\n",
    "    probs = torch.sigmoid(logits_tensor)\n",
    "    preds = (probs >= 0.5).float()\n",
    "    val_accuracy = (preds == targets_tensor).float().mean().item()\n",
    "    val_accuracies.append(val_accuracy)\n",
    "\n",
    "    try:\n",
    "        val_auc = roc_auc_score(targets_tensor.numpy(), probs.numpy())\n",
    "    except ValueError:\n",
    "        val_auc = float(\"nan\")\n",
    "    val_aucs.append(val_auc)\n",
    "\n",
    "    print(\n",
    "        f\"Epoch {epoch + 1}/{epochs}, Train Loss: {avg_train_loss:.4f}, Val Loss: {avg_val_loss:.4f}, Val Acc: {val_accuracy:.4f}, Val AUC: {val_auc:.4f}\"\n",
    "    )\n",
    "\n",
    "    if avg_val_loss < best_val_loss - 1e-4:\n",
    "        best_val_loss = avg_val_loss\n",
    "        early_stop_counter = 0\n",
    "        best_state_dict = copy.deepcopy(nn_base_model.state_dict())\n",
    "    else:\n",
    "        early_stop_counter += 1\n",
    "        if early_stop_counter >= patience:\n",
    "            print(f\"Early stopping triggered at epoch {epoch + 1}\")\n",
    "            break\n",
    "\n",
    "nn_base_model.load_state_dict(best_state_dict)\n"
   ]
  },
  {
   "cell_type": "code",
   "execution_count": 12,
   "id": "9ee16e40",
   "metadata": {},
   "outputs": [
    {
     "data": {
      "image/png": "[encoded data removed]",
      "text/plain": [
       "<Figure size 1000x600 with 1 Axes>"
      ]
     },
     "metadata": {},
     "output_type": "display_data"
    }
   ],
   "source": [
    "num_epochs_run = len(train_losses)\n",
    "plt.figure(figsize=(10, 6))\n",
    "\n",
    "plt.plot(range(1, num_epochs_run + 1), train_losses, marker='o', label='Training Loss')\n",
    "plt.plot(range(1, num_epochs_run + 1), val_losses, marker='o', label='Validation Loss')\n",
    "plt.xlabel('Epochs')\n",
    "plt.ylabel('Loss')\n",
    "plt.title('Training and Validation Loss per Epoch')\n",
    "plt.legend()\n",
    "plt.grid(True)\n",
    "plt.show()\n"
   ]
  },
  {
   "cell_type": "code",
   "execution_count": 13,
   "id": "e640a8aa",
   "metadata": {},
   "outputs": [
    {
     "data": {
      "image/png": "[encoded data removed]",
      "text/plain": [
       "<Figure size 1000x600 with 1 Axes>"
      ]
     },
     "metadata": {},
     "output_type": "display_data"
    }
   ],
   "source": [
    "plt.figure(figsize=(10, 6))\n",
    "plt.plot(range(1, num_epochs_run + 1), val_accuracies, marker='o', label='Validation Accuracy', color='green')\n",
    "plt.plot(range(1, num_epochs_run + 1), val_aucs, marker='o', label='Validation ROC AUC', color='purple')\n",
    "plt.xlabel('Epochs')\n",
    "plt.ylabel('Score')\n",
    "plt.title('Validation Accuracy and ROC AUC per Epoch')\n",
    "plt.legend()\n",
    "plt.grid(True)\n",
    "plt.show()\n"
   ]
  },
  {
   "cell_type": "code",
   "execution_count": 14,
   "id": "753dfdcf",
   "metadata": {},
   "outputs": [
    {
     "name": "stdout",
     "output_type": "stream",
     "text": [
      "Classification Report:\n",
      "              precision    recall  f1-score   support\n",
      "\n",
      "           0       0.98      0.44      0.61      1901\n",
      "           1       0.02      0.66      0.05        41\n",
      "\n",
      "    accuracy                           0.45      1942\n",
      "   macro avg       0.50      0.55      0.33      1942\n",
      "weighted avg       0.96      0.45      0.60      1942\n",
      "\n",
      "Confusion Matrix:\n",
      "[[ 840 1061]\n",
      " [  14   27]]\n",
      "ROC AUC Score: 0.5265072298276902\n"
     ]
    }
   ],
   "source": [
    "# evaluate on the untouched test set using probabilities for calibrated metrics\n",
    "nn_base_model.eval()\n",
    "test_logits = []\n",
    "test_targets = []\n",
    "\n",
    "with torch.no_grad():\n",
    "    for X_batch, Y_batch in test_loader:\n",
    "        X_batch = X_batch.to(device)\n",
    "        Y_batch = Y_batch.to(device)\n",
    "\n",
    "        logits = nn_base_model(X_batch)\n",
    "        test_logits.append(logits.cpu())\n",
    "        test_targets.append(Y_batch.cpu())\n",
    "\n",
    "test_logits = torch.cat(test_logits).squeeze()\n",
    "test_targets = torch.cat(test_targets).squeeze()\n",
    "\n",
    "test_probs = torch.sigmoid(test_logits).numpy()\n",
    "test_preds = (test_probs >= 0.5).astype(int)\n",
    "test_targets_np = test_targets.numpy().astype(int)\n",
    "\n",
    "print(\"Classification Report:\")\n",
    "print(classification_report(test_targets_np, test_preds))\n",
    "print(\"Confusion Matrix:\")\n",
    "print(confusion_matrix(test_targets_np, test_preds))\n",
    "try:\n",
    "    print(\"ROC AUC Score:\", roc_auc_score(test_targets_np, test_probs))\n",
    "except ValueError:\n",
    "    print(\"ROC AUC Score: NaN (only one class present)\")\n"
   ]
  },
  {
   "cell_type": "markdown",
   "id": "0b85bbc1",
   "metadata": {},
   "source": [
    "## Fine-Tune Neural Network Model"
   ]
  },
  {
   "cell_type": "code",
   "execution_count": 16,
   "id": "6aefd034",
   "metadata": {},
   "outputs": [],
   "source": [
    "from sklearn.metrics import precision_recall_curve, f1_score\n",
    "\n",
    "nn_base_model.eval()\n",
    "val_logits = []\n",
    "val_targets = []\n",
    "\n",
    "with torch.no_grad():\n",
    "    for X_batch, y_batch in val_loader:\n",
    "        X_batch = X_batch.to(device)\n",
    "        y_batch = y_batch.to(device)\n",
    "        val_logits.append(nn_base_model(X_batch).cpu())\n",
    "        val_targets.append(y_batch.cpu())\n",
    "\n",
    "val_logits = torch.cat(val_logits).squeeze()\n",
    "val_targets = torch.cat(val_targets).squeeze()\n",
    "val_probs = torch.sigmoid(val_logits).numpy()\n",
    "val_true = val_targets.numpy().astype(int)\n"
   ]
  },
  {
   "cell_type": "code",
   "execution_count": null,
   "id": "9af122ce",
   "metadata": {},
   "outputs": [
    {
     "name": "stdout",
     "output_type": "stream",
     "text": [
      "Best threshold 0.35 with F1 0.059\n"
     ]
    }
   ],
   "source": [
    "thresholds = np.linspace(0.05, 0.95, 19)\n",
    "scores = []\n",
    "\n",
    "for thr in thresholds:\n",
    "    preds = (val_probs >= thr).astype(int)\n",
    "    scores.append((thr, f1_score(val_true, preds)))\n",
    "\n",
    "best_thr, best_f1 = max(scores, key=lambda x: x[1])\n",
    "print(f\"Best threshold {best_thr:.2f} with F1 {best_f1:.3f}\")\n"
   ]
  },
  {
   "cell_type": "code",
   "execution_count": 27,
   "id": "a81afb60",
   "metadata": {},
   "outputs": [
    {
     "name": "stdout",
     "output_type": "stream",
     "text": [
      "Classification Report:\n",
      "              precision    recall  f1-score   support\n",
      "\n",
      "           0       0.98      0.36      0.53      1901\n",
      "           1       0.02      0.68      0.04        41\n",
      "\n",
      "    accuracy                           0.37      1942\n",
      "   macro avg       0.50      0.52      0.29      1942\n",
      "weighted avg       0.96      0.37      0.52      1942\n",
      "\n",
      "Confusion Matrix:\n",
      "[[ 692 1209]\n",
      " [  13   28]]\n",
      "ROC AUC Score: 0.5265072298276902\n"
     ]
    }
   ],
   "source": [
    "# evaluate on the untouched test set using probabilities for calibrated metrics\n",
    "nn_base_model.eval()\n",
    "test_logits = []\n",
    "test_targets = []\n",
    "\n",
    "with torch.no_grad():\n",
    "    for X_batch, Y_batch in test_loader:\n",
    "        X_batch = X_batch.to(device)\n",
    "        Y_batch = Y_batch.to(device)\n",
    "\n",
    "        logits = nn_base_model(X_batch)\n",
    "        test_logits.append(logits.cpu())\n",
    "        test_targets.append(Y_batch.cpu())\n",
    "\n",
    "test_logits = torch.cat(test_logits).squeeze()\n",
    "test_targets = torch.cat(test_targets).squeeze()\n",
    "\n",
    "test_probs = torch.sigmoid(test_logits).numpy()\n",
    "test_preds = (test_probs >= 0.35).astype(int)\n",
    "test_targets_np = test_targets.numpy().astype(int)\n",
    "\n",
    "print(\"Classification Report:\")\n",
    "print(classification_report(test_targets_np, test_preds))\n",
    "print(\"Confusion Matrix:\")\n",
    "print(confusion_matrix(test_targets_np, test_preds))\n",
    "try:\n",
    "    print(\"ROC AUC Score:\", roc_auc_score(test_targets_np, test_probs))\n",
    "except ValueError:\n",
    "    print(\"ROC AUC Score: NaN (only one class present)\")\n"
   ]
  }
 ],
 "metadata": {
  "kernelspec": {
   "display_name": "venv (3.13.5)",
   "language": "python",
   "name": "python3"
  },
  "language_info": {
   "codemirror_mode": {
    "name": "ipython",
    "version": 3
   },
   "file_extension": ".py",
   "mimetype": "text/x-python",
   "name": "python",
   "nbconvert_exporter": "python",
   "pygments_lexer": "ipython3",
   "version": "3.13.5"
  }
 },
 "nbformat": 4,
 "nbformat_minor": 5
}
