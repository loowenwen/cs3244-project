{
 "cells": [
  {
   "cell_type": "markdown",
   "id": "98c24ae2",
   "metadata": {},
   "source": [
    "# Neural Network"
   ]
  },
  {
   "cell_type": "markdown",
   "id": "8d86df3b",
   "metadata": {},
   "source": [
    "## Import Necessary Packages"
   ]
  },
  {
   "cell_type": "code",
   "execution_count": 24,
   "id": "a993eea4",
   "metadata": {},
   "outputs": [],
   "source": [
    "import copy\n",
    "import random\n",
    "import numpy as np\n",
    "import pandas as pd\n",
    "import matplotlib.pyplot as plt\n",
    "from sklearn.model_selection import train_test_split\n",
    "from sklearn.preprocessing import MinMaxScaler\n",
    "from collections import Counter\n",
    "from imblearn.over_sampling import SMOTE\n",
    "import torch\n",
    "import torch.nn as nn\n",
    "import torch.optim as optim\n",
    "from torch.optim.lr_scheduler import ReduceLROnPlateau\n",
    "from torch.utils.data import DataLoader, TensorDataset\n",
    "from sklearn.metrics import classification_report, confusion_matrix, roc_auc_score\n",
    "import os\n",
    "import optuna\n",
    "from sklearn.metrics import f1_score\n",
    "import torch.cuda"
   ]
  },
  {
   "cell_type": "code",
   "execution_count": 2,
   "id": "eded4889",
   "metadata": {},
   "outputs": [
    {
     "data": {
      "text/plain": [
       "device(type='cpu')"
      ]
     },
     "execution_count": 2,
     "metadata": {},
     "output_type": "execute_result"
    }
   ],
   "source": [
    "# set deterministic behaviour so tuning experiments are reproducible\n",
    "SEED = 42\n",
    "random.seed(SEED)\n",
    "np.random.seed(SEED)\n",
    "torch.manual_seed(SEED)\n",
    "if torch.cuda.is_available():\n",
    "    torch.cuda.manual_seed_all(SEED)\n",
    "    torch.backends.cudnn.deterministic = True\n",
    "    torch.backends.cudnn.benchmark = False\n",
    "\n",
    "device = torch.device(\"cuda\" if torch.cuda.is_available() else \"cpu\")\n",
    "device"
   ]
  },
  {
   "cell_type": "markdown",
   "id": "80a905dd",
   "metadata": {},
   "source": [
    "## Data Preprocessing"
   ]
  },
  {
   "cell_type": "code",
   "execution_count": 3,
   "id": "4230ed8d",
   "metadata": {},
   "outputs": [
    {
     "name": "stdout",
     "output_type": "stream",
     "text": [
      "        id  code_gender  flag_own_car  flag_own_realty  cnt_children  \\\n",
      "0  5008804            1             1                1             0   \n",
      "1  5008805            1             1                1             0   \n",
      "2  5008806            1             1                1             0   \n",
      "3  5008808            0             0                1             0   \n",
      "4  5008809            0             0                1             0   \n",
      "\n",
      "   amt_income_total      name_income_type            name_education_type  \\\n",
      "0          427500.0               Working               Higher education   \n",
      "1          427500.0               Working               Higher education   \n",
      "2          112500.0               Working  Secondary / secondary special   \n",
      "3          270000.0  Commercial associate  Secondary / secondary special   \n",
      "4          270000.0  Commercial associate  Secondary / secondary special   \n",
      "\n",
      "     name_family_status  name_housing_type  ...  cnt_fam_members  age  \\\n",
      "0        Civil marriage   Rented apartment  ...                2   32   \n",
      "1        Civil marriage   Rented apartment  ...                2   32   \n",
      "2               Married  House / apartment  ...                2   58   \n",
      "3  Single / not married  House / apartment  ...                1   52   \n",
      "4  Single / not married  House / apartment  ...                1   52   \n",
      "\n",
      "   is_employed  years_employed amt_income_log  max_delay  avg_delay  \\\n",
      "0            1       12.435318      12.965712          1   0.000000   \n",
      "1            1       12.435318      12.965712          1   0.000000   \n",
      "2            1        3.104723      11.630717          0  -0.533333   \n",
      "3            1        8.353183      12.506181          0  -0.600000   \n",
      "4            1        8.353183      12.506181         -1  -1.000000   \n",
      "\n",
      "   num_bad_months  months_total  label  \n",
      "0               0            16      0  \n",
      "1               0            15      0  \n",
      "2               0            30      0  \n",
      "3               0             5      0  \n",
      "4               0             5      0  \n",
      "\n",
      "[5 rows x 25 columns]\n",
      "Index(['id', 'code_gender', 'flag_own_car', 'flag_own_realty', 'cnt_children',\n",
      "       'amt_income_total', 'name_income_type', 'name_education_type',\n",
      "       'name_family_status', 'name_housing_type', 'flag_mobil',\n",
      "       'flag_work_phone', 'flag_phone', 'flag_email', 'occupation_type',\n",
      "       'cnt_fam_members', 'age', 'is_employed', 'years_employed',\n",
      "       'amt_income_log', 'max_delay', 'avg_delay', 'num_bad_months',\n",
      "       'months_total', 'label'],\n",
      "      dtype='object')\n"
     ]
    }
   ],
   "source": [
    "# read in cleaned merged data\n",
    "df = pd.read_csv(\"../data/clean_merged.csv\")\n",
    "print(df.head())\n",
    "print(df.columns)"
   ]
  },
  {
   "cell_type": "code",
   "execution_count": 4,
   "id": "bcb5a476",
   "metadata": {},
   "outputs": [],
   "source": [
    "# remove columns that are not relevant for prediction\n",
    "# leaky features that would not be available at prediction time\n",
    "leaky_features = ['max_delay', 'avg_delay', 'num_bad_months', 'months_total']\n",
    "# labels and ids would not be useful for prediction\n",
    "X = df.drop(columns=['label', 'id', 'amt_income_total'] + leaky_features)\n",
    "y = df['label'].astype('int')"
   ]
  },
  {
   "cell_type": "code",
   "execution_count": 5,
   "id": "034beb17",
   "metadata": {},
   "outputs": [
    {
     "data": {
      "text/plain": [
       "Index(['code_gender', 'flag_own_car', 'flag_own_realty', 'cnt_children',\n",
       "       'flag_mobil', 'flag_work_phone', 'flag_phone', 'flag_email',\n",
       "       'cnt_fam_members', 'age', 'is_employed', 'years_employed',\n",
       "       'amt_income_log', 'name_income_type_Pensioner',\n",
       "       'name_income_type_State servant', 'name_income_type_Student',\n",
       "       'name_income_type_Working', 'name_education_type_Higher education',\n",
       "       'name_education_type_Incomplete higher',\n",
       "       'name_education_type_Lower secondary',\n",
       "       'name_education_type_Secondary / secondary special',\n",
       "       'name_family_status_Married', 'name_family_status_Separated',\n",
       "       'name_family_status_Single / not married', 'name_family_status_Widow',\n",
       "       'name_housing_type_House / apartment',\n",
       "       'name_housing_type_Municipal apartment',\n",
       "       'name_housing_type_Office apartment',\n",
       "       'name_housing_type_Rented apartment', 'name_housing_type_With parents',\n",
       "       'occupation_type_Cleaning staff', 'occupation_type_Cooking staff',\n",
       "       'occupation_type_Core staff', 'occupation_type_Drivers',\n",
       "       'occupation_type_HR staff', 'occupation_type_High skill tech staff',\n",
       "       'occupation_type_IT staff', 'occupation_type_Laborers',\n",
       "       'occupation_type_Low-skill Laborers', 'occupation_type_Managers',\n",
       "       'occupation_type_Medicine staff',\n",
       "       'occupation_type_Private service staff',\n",
       "       'occupation_type_Realty agents', 'occupation_type_Sales staff',\n",
       "       'occupation_type_Secretaries', 'occupation_type_Security staff',\n",
       "       'occupation_type_Unknown', 'occupation_type_Waiters/barmen staff'],\n",
       "      dtype='object')"
      ]
     },
     "execution_count": 5,
     "metadata": {},
     "output_type": "execute_result"
    }
   ],
   "source": [
    "categorical_cols = X.select_dtypes(include=['object', 'category']).columns\n",
    "if len(categorical_cols) > 0:\n",
    "    X_encoded = pd.get_dummies(X, columns=categorical_cols, drop_first=True)\n",
    "else:\n",
    "    X_encoded = X\n",
    "\n",
    "X_encoded.head()\n",
    "X_encoded.columns"
   ]
  },
  {
   "cell_type": "code",
   "execution_count": 6,
   "id": "2a8aeacf",
   "metadata": {},
   "outputs": [
    {
     "data": {
      "text/plain": [
       "(Counter({0: 25804, 1: 444}),\n",
       " Counter({0: 2868, 1: 49}),\n",
       " Counter({0: 7169, 1: 123}))"
      ]
     },
     "execution_count": 6,
     "metadata": {},
     "output_type": "execute_result"
    }
   ],
   "source": [
    "# split once for train/validation/test so evaluation stays unbiased\n",
    "\n",
    "# split into train (72%), val (8%), test (20%)\n",
    "X_train_full, X_test, y_train_full, y_test = train_test_split(\n",
    "    X_encoded,\n",
    "    y,\n",
    "    test_size=0.2,\n",
    "    random_state=SEED,\n",
    "    stratify=y,\n",
    ")\n",
    "\n",
    "X_train, X_val, y_train, y_val = train_test_split(\n",
    "    X_train_full,\n",
    "    y_train_full,\n",
    "    test_size=0.1,\n",
    "    random_state=SEED,\n",
    "    stratify=y_train_full,\n",
    ")\n",
    "\n",
    "scaler = MinMaxScaler()\n",
    "# min-max scale on train set, apply to val and test sets\n",
    "X_train_scaled = scaler.fit_transform(X_train)\n",
    "X_val_scaled = scaler.transform(X_val)\n",
    "X_test_scaled = scaler.transform(X_test)\n",
    "\n",
    "# check class distribution in each split\n",
    "train_class_counts = Counter(y_train)\n",
    "val_class_counts = Counter(y_val)\n",
    "test_class_counts = Counter(y_test)\n",
    "\n",
    "train_class_counts, val_class_counts, test_class_counts\n"
   ]
  },
  {
   "cell_type": "code",
   "execution_count": 7,
   "id": "34d3e4a8",
   "metadata": {},
   "outputs": [
    {
     "name": "stdout",
     "output_type": "stream",
     "text": [
      "Original training distribution: Counter({0: 25804, 1: 444})\n",
      "Balanced training distribution: Counter({0: 25804, 1: 25804})\n"
     ]
    }
   ],
   "source": [
    "# balance only the training fold; keep validation/test untouched\n",
    "smote = SMOTE(random_state=SEED)\n",
    "X_train_balanced, y_train_balanced = smote.fit_resample(X_train_scaled, y_train)\n",
    "\n",
    "print(\"Original training distribution:\", train_class_counts)\n",
    "print(\"Balanced training distribution:\", Counter(y_train_balanced))"
   ]
  },
  {
   "cell_type": "code",
   "execution_count": 8,
   "id": "6c57dcb2",
   "metadata": {},
   "outputs": [
    {
     "name": "stdout",
     "output_type": "stream",
     "text": [
      "Calculated pos_weight: 58.12\n"
     ]
    }
   ],
   "source": [
    "# compute pos_weight for BCEWithLogitsLoss\n",
    "pos_weight_value = train_class_counts[0] / train_class_counts[1]\n",
    "pos_weight = torch.tensor([pos_weight_value], dtype=torch.float32, device=device)\n",
    "print(f\"Calculated pos_weight: {pos_weight_value:.2f}\")"
   ]
  },
  {
   "cell_type": "code",
   "execution_count": 9,
   "id": "f0623f24",
   "metadata": {},
   "outputs": [],
   "source": [
    "# build tensors and loaders; batches move to GPU/CPU device inside the loop\n",
    "X_train_tensor = torch.tensor(X_train_balanced, dtype=torch.float32)\n",
    "y_train_tensor = torch.tensor(np.array(y_train_balanced).reshape(-1, 1), dtype=torch.float32)\n",
    "X_val_tensor = torch.tensor(X_val_scaled, dtype=torch.float32)\n",
    "y_val_tensor = torch.tensor(y_val.to_numpy().reshape(-1, 1), dtype=torch.float32)\n",
    "X_test_tensor = torch.tensor(X_test_scaled, dtype=torch.float32)\n",
    "y_test_tensor = torch.tensor(y_test.to_numpy().reshape(-1, 1), dtype=torch.float32)\n",
    "\n",
    "train_dataset = TensorDataset(X_train_tensor, y_train_tensor)\n",
    "val_dataset = TensorDataset(X_val_tensor, y_val_tensor)\n",
    "test_dataset = TensorDataset(X_test_tensor, y_test_tensor)\n",
    "\n",
    "batch_size = 256\n",
    "\n",
    "train_loader = DataLoader(train_dataset, batch_size=batch_size, shuffle=True)\n",
    "val_loader = DataLoader(val_dataset, batch_size=batch_size)\n",
    "test_loader = DataLoader(test_dataset, batch_size=batch_size)\n"
   ]
  },
  {
   "cell_type": "markdown",
   "id": "ced002ec",
   "metadata": {},
   "source": [
    "## Neural Network Baseline"
   ]
  },
  {
   "cell_type": "code",
   "execution_count": 10,
   "id": "fc585df2",
   "metadata": {},
   "outputs": [],
   "source": [
    "# three-layer MLP that emits logits; dropout helps regularise high-dimensional features\n",
    "class NN(nn.Module):\n",
    "    def __init__(self, input_dim, hidden_layers=128, dropout_rate=0.2):\n",
    "        super().__init__()\n",
    "        self.layer1 = nn.Linear(input_dim, hidden_layers)\n",
    "        self.act1 = nn.ReLU()\n",
    "        self.drop1 = nn.Dropout(dropout_rate)\n",
    "\n",
    "        self.layer2 = nn.Linear(hidden_layers, hidden_layers)\n",
    "        self.act2 = nn.ReLU()\n",
    "        self.drop2 = nn.Dropout(dropout_rate)\n",
    "\n",
    "        self.layer3 = nn.Linear(hidden_layers, hidden_layers)\n",
    "        self.act3 = nn.ReLU()\n",
    "        self.drop3 = nn.Dropout(dropout_rate)\n",
    "\n",
    "        self.output = nn.Linear(hidden_layers, 1)\n",
    "\n",
    "    def forward(self, x):\n",
    "        x = self.drop1(self.act1(self.layer1(x)))\n",
    "        x = self.drop2(self.act2(self.layer2(x)))\n",
    "        x = self.drop3(self.act3(self.layer3(x)))\n",
    "        x = self.output(x)\n",
    "        return x\n"
   ]
  },
  {
   "cell_type": "markdown",
   "id": "f400703c",
   "metadata": {},
   "source": [
    "### Neural Network Baseline Training and Evaluation"
   ]
  },
  {
   "cell_type": "code",
   "execution_count": 11,
   "id": "728a456a",
   "metadata": {},
   "outputs": [],
   "source": [
    "input_dim = X_train_tensor.shape[1]  # get number of features after encoding\n",
    "nn_base_model = NN(input_dim).to(device)\n",
    "\n",
    "# weighted loss + regularisation to reflect true imbalance and stabilise training\n",
    "criterion = nn.BCEWithLogitsLoss(pos_weight=pos_weight)\n",
    "optimizer = optim.Adam(nn_base_model.parameters(), lr=0.001, weight_decay=1e-4)\n",
    "scheduler = ReduceLROnPlateau(optimizer, mode=\"min\", factor=0.5, patience=3)\n",
    "\n",
    "epochs = 80\n",
    "patience = 10\n",
    "train_losses = []\n",
    "val_losses = []\n",
    "val_accuracies = []\n",
    "val_aucs = []\n",
    "best_val_loss = float(\"inf\")\n",
    "early_stop_counter = 0\n",
    "best_state_dict = copy.deepcopy(nn_base_model.state_dict())\n"
   ]
  },
  {
   "cell_type": "code",
   "execution_count": 12,
   "id": "87bb5752",
   "metadata": {},
   "outputs": [
    {
     "name": "stdout",
     "output_type": "stream",
     "text": [
      "Epoch 1/80, Train Loss: 3.4930, Val Loss: 3.5877, Val Acc: 0.0189, Val AUC: 0.5652\n",
      "Epoch 2/80, Train Loss: 2.0341, Val Loss: 3.0029, Val Acc: 0.2187, Val AUC: 0.6304\n",
      "Epoch 3/80, Train Loss: 1.7144, Val Loss: 2.8979, Val Acc: 0.3692, Val AUC: 0.6503\n",
      "Epoch 4/80, Train Loss: 1.5465, Val Loss: 2.8855, Val Acc: 0.4782, Val AUC: 0.6694\n",
      "Epoch 5/80, Train Loss: 1.4272, Val Loss: 2.9379, Val Acc: 0.5259, Val AUC: 0.6962\n",
      "Epoch 6/80, Train Loss: 1.3411, Val Loss: 3.0191, Val Acc: 0.5475, Val AUC: 0.7128\n",
      "Epoch 7/80, Train Loss: 1.2385, Val Loss: 3.0353, Val Acc: 0.5746, Val AUC: 0.7167\n",
      "Epoch 8/80, Train Loss: 1.1944, Val Loss: 3.1761, Val Acc: 0.6298, Val AUC: 0.7205\n",
      "Epoch 9/80, Train Loss: 1.0831, Val Loss: 3.2253, Val Acc: 0.6359, Val AUC: 0.7219\n",
      "Epoch 10/80, Train Loss: 1.0388, Val Loss: 3.3070, Val Acc: 0.6383, Val AUC: 0.7280\n",
      "Epoch 11/80, Train Loss: 0.9997, Val Loss: 3.4113, Val Acc: 0.6788, Val AUC: 0.7304\n",
      "Epoch 12/80, Train Loss: 0.9857, Val Loss: 3.6468, Val Acc: 0.6709, Val AUC: 0.7229\n",
      "Epoch 13/80, Train Loss: 0.9305, Val Loss: 3.6184, Val Acc: 0.6983, Val AUC: 0.7297\n",
      "Epoch 14/80, Train Loss: 0.9073, Val Loss: 3.8030, Val Acc: 0.7072, Val AUC: 0.7236\n",
      "Early stopping triggered at epoch 14\n"
     ]
    },
    {
     "data": {
      "text/plain": [
       "<All keys matched successfully>"
      ]
     },
     "execution_count": 12,
     "metadata": {},
     "output_type": "execute_result"
    }
   ],
   "source": [
    "for epoch in range(epochs):\n",
    "    nn_base_model.train()\n",
    "    epoch_loss = 0.0\n",
    "\n",
    "    for X_batch, Y_batch in train_loader:\n",
    "        X_batch = X_batch.to(device)\n",
    "        Y_batch = Y_batch.to(device)\n",
    "\n",
    "        optimizer.zero_grad()\n",
    "        logits = nn_base_model(X_batch)\n",
    "        loss = criterion(logits, Y_batch)\n",
    "        loss.backward()\n",
    "        torch.nn.utils.clip_grad_norm_(nn_base_model.parameters(), max_norm=1.0)\n",
    "        optimizer.step()\n",
    "\n",
    "        epoch_loss += loss.item()\n",
    "\n",
    "    avg_train_loss = epoch_loss / len(train_loader)\n",
    "    train_losses.append(avg_train_loss)\n",
    "\n",
    "    nn_base_model.eval()\n",
    "    val_loss = 0.0\n",
    "    val_logits = []\n",
    "    val_targets = []\n",
    "\n",
    "    with torch.no_grad():\n",
    "        for X_batch, Y_batch in val_loader:\n",
    "            X_batch = X_batch.to(device)\n",
    "            Y_batch = Y_batch.to(device)\n",
    "\n",
    "            logits = nn_base_model(X_batch)\n",
    "            loss = criterion(logits, Y_batch)\n",
    "\n",
    "            val_loss += loss.item()\n",
    "            val_logits.append(logits.cpu())\n",
    "            val_targets.append(Y_batch.cpu())\n",
    "\n",
    "    avg_val_loss = val_loss / len(val_loader)\n",
    "    val_losses.append(avg_val_loss)\n",
    "    scheduler.step(avg_val_loss)\n",
    "\n",
    "    logits_tensor = torch.cat(val_logits).squeeze()\n",
    "    targets_tensor = torch.cat(val_targets).squeeze()\n",
    "    probs = torch.sigmoid(logits_tensor)\n",
    "    preds = (probs >= 0.5).float()\n",
    "    val_accuracy = (preds == targets_tensor).float().mean().item()\n",
    "    val_accuracies.append(val_accuracy)\n",
    "\n",
    "    try:\n",
    "        val_auc = roc_auc_score(targets_tensor.numpy(), probs.numpy())\n",
    "    except ValueError:\n",
    "        val_auc = float(\"nan\")\n",
    "    val_aucs.append(val_auc)\n",
    "\n",
    "    print(\n",
    "        f\"Epoch {epoch + 1}/{epochs}, Train Loss: {avg_train_loss:.4f}, Val Loss: {avg_val_loss:.4f}, Val Acc: {val_accuracy:.4f}, Val AUC: {val_auc:.4f}\"\n",
    "    )\n",
    "\n",
    "    if avg_val_loss < best_val_loss - 1e-4:\n",
    "        best_val_loss = avg_val_loss\n",
    "        early_stop_counter = 0\n",
    "        best_state_dict = copy.deepcopy(nn_base_model.state_dict())\n",
    "    else:\n",
    "        early_stop_counter += 1\n",
    "        if early_stop_counter >= patience:\n",
    "            print(f\"Early stopping triggered at epoch {epoch + 1}\")\n",
    "            break\n",
    "\n",
    "nn_base_model.load_state_dict(best_state_dict)\n"
   ]
  },
  {
   "cell_type": "code",
   "execution_count": 13,
   "id": "9ee16e40",
   "metadata": {},
   "outputs": [
    {
     "data": {
      "image/png": "[encoded data removed]",
      "text/plain": [
       "<Figure size 1000x600 with 1 Axes>"
      ]
     },
     "metadata": {},
     "output_type": "display_data"
    }
   ],
   "source": [
    "num_epochs_run = len(train_losses)\n",
    "plt.figure(figsize=(10, 6))\n",
    "\n",
    "plt.plot(range(1, num_epochs_run + 1), train_losses, marker='o', label='Training Loss')\n",
    "plt.plot(range(1, num_epochs_run + 1), val_losses, marker='o', label='Validation Loss')\n",
    "plt.xlabel('Epochs')\n",
    "plt.ylabel('Loss')\n",
    "plt.title('Training and Validation Loss per Epoch')\n",
    "plt.legend()\n",
    "plt.grid(True)\n",
    "plt.show()\n"
   ]
  },
  {
   "cell_type": "code",
   "execution_count": 14,
   "id": "e640a8aa",
   "metadata": {},
   "outputs": [
    {
     "data": {
      "image/png": "[encoded data removed]",
      "text/plain": [
       "<Figure size 1000x600 with 1 Axes>"
      ]
     },
     "metadata": {},
     "output_type": "display_data"
    }
   ],
   "source": [
    "plt.figure(figsize=(10, 6))\n",
    "plt.plot(range(1, num_epochs_run + 1), val_accuracies, marker='o', label='Validation Accuracy', color='green')\n",
    "plt.plot(range(1, num_epochs_run + 1), val_aucs, marker='o', label='Validation ROC AUC', color='purple')\n",
    "plt.xlabel('Epochs')\n",
    "plt.ylabel('Score')\n",
    "plt.title('Validation Accuracy and ROC AUC per Epoch')\n",
    "plt.legend()\n",
    "plt.grid(True)\n",
    "plt.show()\n"
   ]
  },
  {
   "cell_type": "code",
   "execution_count": 15,
   "id": "753dfdcf",
   "metadata": {},
   "outputs": [
    {
     "name": "stdout",
     "output_type": "stream",
     "text": [
      "Classification Report:\n",
      "              precision    recall  f1-score   support\n",
      "\n",
      "           0       0.99      0.46      0.62      7169\n",
      "           1       0.02      0.70      0.04       123\n",
      "\n",
      "    accuracy                           0.46      7292\n",
      "   macro avg       0.51      0.58      0.33      7292\n",
      "weighted avg       0.97      0.46      0.61      7292\n",
      "\n",
      "Confusion Matrix:\n",
      "[[3266 3903]\n",
      " [  37   86]]\n",
      "ROC AUC Score: 0.6284811411372587\n"
     ]
    }
   ],
   "source": [
    "# evaluate on the untouched test set using probabilities for calibrated metrics\n",
    "nn_base_model.eval()\n",
    "test_logits = []\n",
    "test_targets = []\n",
    "\n",
    "with torch.no_grad():\n",
    "    for X_batch, Y_batch in test_loader:\n",
    "        X_batch = X_batch.to(device)\n",
    "        Y_batch = Y_batch.to(device)\n",
    "\n",
    "        logits = nn_base_model(X_batch)\n",
    "        test_logits.append(logits.cpu())\n",
    "        test_targets.append(Y_batch.cpu())\n",
    "\n",
    "test_logits = torch.cat(test_logits).squeeze()\n",
    "test_targets = torch.cat(test_targets).squeeze()\n",
    "\n",
    "test_probs = torch.sigmoid(test_logits).numpy()\n",
    "test_preds = (test_probs >= 0.5).astype(int)\n",
    "test_targets_np = test_targets.numpy().astype(int)\n",
    "\n",
    "print(\"Classification Report:\")\n",
    "print(classification_report(test_targets_np, test_preds))\n",
    "print(\"Confusion Matrix:\")\n",
    "print(confusion_matrix(test_targets_np, test_preds))\n",
    "try:\n",
    "    print(\"ROC AUC Score:\", roc_auc_score(test_targets_np, test_probs))\n",
    "except ValueError:\n",
    "    print(\"ROC AUC Score: NaN (only one class present)\")\n"
   ]
  },
  {
   "cell_type": "markdown",
   "id": "c7c172ec",
   "metadata": {},
   "source": [
    "## Neural Network Hypertune"
   ]
  },
  {
   "cell_type": "code",
   "execution_count": 35,
   "id": "668f4d07",
   "metadata": {},
   "outputs": [],
   "source": [
    "class NN_Tune(nn.Module):\n",
    "    def __init__(self, input_size, num_layers, num_neurons, dropout_rate):\n",
    "        super().__init__()\n",
    "        layers = []\n",
    "        \n",
    "        # Input layer\n",
    "        layers.append(nn.Linear(input_size, num_neurons))\n",
    "        layers.append(nn.BatchNorm1d(num_neurons))\n",
    "        layers.append(nn.ReLU())\n",
    "        layers.append(nn.Dropout(dropout_rate))\n",
    "\n",
    "        # Hidden layers\n",
    "        for _ in range(num_layers - 1):\n",
    "            layers.append(nn.Linear(num_neurons, num_neurons))\n",
    "            layers.append(nn.BatchNorm1d(num_neurons))\n",
    "            layers.append(nn.ReLU())\n",
    "            layers.append(nn.Dropout(dropout_rate))\n",
    "        \n",
    "        # Output layer \n",
    "        layers.append(nn.Linear(num_neurons, 1))\n",
    "        self.network = nn.Sequential(*layers)\n",
    "\n",
    "    def forward(self, x):\n",
    "        return self.network(x)"
   ]
  },
  {
   "cell_type": "code",
   "execution_count": 36,
   "id": "da674c48",
   "metadata": {},
   "outputs": [],
   "source": [
    "def objective(trial):\n",
    "    num_layers = trial.suggest_int(\"num_layers\", 2, 3)\n",
    "    num_neurons = trial.suggest_categorical(\"num_neurons\", [32, 64, 128])\n",
    "    dropout_rate = trial.suggest_categorical(\"dropout_rate\", [0.2, 0.5])\n",
    "    lr = trial.suggest_categorical(\"lr\", [0.001, 0.01])\n",
    "    batch_size = trial.suggest_categorical(\"batch_size\", [64, 256])\n",
    "    optimizer_name = trial.suggest_categorical(\"optimizer\", [\"adam\", \"sgd\"])\n",
    "\n",
    "    train_loader = DataLoader(train_dataset, batch_size=batch_size, shuffle=True)\n",
    "    val_loader = DataLoader(val_dataset, batch_size=batch_size)\n",
    "    \n",
    "    model = NN_Tune(\n",
    "        input_size=X_train_tensor.shape[1],\n",
    "        num_layers=num_layers,\n",
    "        num_neurons=num_neurons,\n",
    "        dropout_rate=dropout_rate\n",
    "    ).to(device)\n",
    "\n",
    "    criterion = nn.BCEWithLogitsLoss(pos_weight=pos_weight)\n",
    "    \n",
    "    if optimizer_name == \"adam\":\n",
    "        optimizer = optim.Adam(model.parameters(), lr=lr, weight_decay=1e-4)\n",
    "    else:\n",
    "        optimizer = optim.SGD(model.parameters(), lr=lr, momentum=0.9)\n",
    "\n",
    "    max_val_auc = 0.0 \n",
    "\n",
    "    for epoch in range(100):\n",
    "        model.train()\n",
    "        for X_batch, Y_batch in train_loader:\n",
    "            X_batch, Y_batch = X_batch.to(device), Y_batch.to(device)\n",
    "            optimizer.zero_grad()\n",
    "            logits = model(X_batch)\n",
    "            loss = criterion(logits, Y_batch)\n",
    "            loss.backward()\n",
    "            optimizer.step()\n",
    "\n",
    "        model.eval()\n",
    "        val_logits_list = []\n",
    "        val_targets_list = []\n",
    "        with torch.no_grad():\n",
    "            for X_batch, Y_batch in val_loader:\n",
    "                X_batch, Y_batch = X_batch.to(device), Y_batch.to(device)\n",
    "                logits = model(X_batch)\n",
    "                val_logits_list.append(logits.cpu())\n",
    "                val_targets_list.append(Y_batch.cpu())\n",
    "        \n",
    "        logits_tensor = torch.cat(val_logits_list).squeeze()\n",
    "        targets_tensor = torch.cat(val_targets_list).squeeze()\n",
    "        probs = torch.sigmoid(logits_tensor)\n",
    "        \n",
    "        try:\n",
    "            val_auc = roc_auc_score(targets_tensor.numpy(), probs.numpy())\n",
    "        except ValueError:\n",
    "            val_auc = 0.5\n",
    "        \n",
    "        if val_auc > max_val_auc:\n",
    "            max_val_auc = val_auc\n",
    "\n",
    "        trial.report(val_auc, epoch)\n",
    "\n",
    "        # Early stopping\n",
    "        if trial.should_prune():\n",
    "            torch.cuda.empty_cache() \n",
    "            raise optuna.exceptions.TrialPruned()\n",
    "\n",
    "    torch.cuda.empty_cache()\n",
    "    return max_val_auc"
   ]
  },
  {
   "cell_type": "code",
   "execution_count": 37,
   "id": "c828f7f9",
   "metadata": {},
   "outputs": [
    {
     "name": "stderr",
     "output_type": "stream",
     "text": [
      "[I 2025-11-01 11:44:10,333] A new study created in memory with name: no-name-c68b7728-c5d2-42a7-a0ca-30d039a5f2ae\n"
     ]
    },
    {
     "name": "stdout",
     "output_type": "stream",
     "text": [
      "\n",
      "Starting Hyperparameter Tuning\n"
     ]
    },
    {
     "name": "stderr",
     "output_type": "stream",
     "text": [
      "[I 2025-11-01 11:45:44,579] Trial 0 finished with value: 0.7726389719067543 and parameters: {'num_layers': 2, 'num_neurons': 64, 'dropout_rate': 0.5, 'lr': 0.01, 'batch_size': 64, 'optimizer': 'adam'}. Best is trial 0 with value: 0.7726389719067543.\n",
      "[I 2025-11-01 11:47:07,381] Trial 1 finished with value: 0.747651780377423 and parameters: {'num_layers': 2, 'num_neurons': 128, 'dropout_rate': 0.2, 'lr': 0.001, 'batch_size': 64, 'optimizer': 'sgd'}. Best is trial 0 with value: 0.7726389719067543.\n",
      "[I 2025-11-01 11:48:38,822] Trial 2 finished with value: 0.7400200666040475 and parameters: {'num_layers': 3, 'num_neurons': 32, 'dropout_rate': 0.2, 'lr': 0.01, 'batch_size': 64, 'optimizer': 'sgd'}. Best is trial 0 with value: 0.7726389719067543.\n",
      "[I 2025-11-01 11:49:44,873] Trial 3 finished with value: 0.7662952210172771 and parameters: {'num_layers': 3, 'num_neurons': 128, 'dropout_rate': 0.2, 'lr': 0.001, 'batch_size': 256, 'optimizer': 'adam'}. Best is trial 0 with value: 0.7726389719067543.\n",
      "[I 2025-11-01 11:51:21,256] Trial 4 finished with value: 0.7397140864714087 and parameters: {'num_layers': 3, 'num_neurons': 64, 'dropout_rate': 0.2, 'lr': 0.001, 'batch_size': 64, 'optimizer': 'sgd'}. Best is trial 0 with value: 0.7726389719067543.\n",
      "[I 2025-11-01 11:51:23,046] Trial 5 pruned. \n",
      "[I 2025-11-01 11:51:24,017] Trial 6 pruned. \n",
      "[I 2025-11-01 11:51:24,438] Trial 7 pruned. \n",
      "[I 2025-11-01 11:51:25,248] Trial 8 pruned. \n",
      "[I 2025-11-01 11:53:44,504] Trial 9 finished with value: 0.7591651723450885 and parameters: {'num_layers': 3, 'num_neurons': 128, 'dropout_rate': 0.2, 'lr': 0.001, 'batch_size': 64, 'optimizer': 'adam'}. Best is trial 0 with value: 0.7726389719067543.\n",
      "[I 2025-11-01 11:53:45,309] Trial 10 pruned. \n",
      "[I 2025-11-01 11:53:46,086] Trial 11 pruned. \n",
      "[I 2025-11-01 11:53:47,567] Trial 12 pruned. \n",
      "[I 2025-11-01 11:53:48,079] Trial 13 pruned. \n",
      "[I 2025-11-01 11:54:38,383] Trial 14 finished with value: 0.7768408618677596 and parameters: {'num_layers': 2, 'num_neurons': 128, 'dropout_rate': 0.2, 'lr': 0.01, 'batch_size': 256, 'optimizer': 'adam'}. Best is trial 14 with value: 0.7768408618677596.\n",
      "[I 2025-11-01 11:54:39,358] Trial 15 pruned. \n",
      "[I 2025-11-01 11:54:44,734] Trial 16 pruned. \n",
      "[I 2025-11-01 11:54:50,459] Trial 17 pruned. \n",
      "[I 2025-11-01 11:54:51,848] Trial 18 pruned. \n",
      "[I 2025-11-01 11:54:58,533] Trial 19 pruned. \n",
      "[I 2025-11-01 11:54:58,939] Trial 20 pruned. \n",
      "[I 2025-11-01 11:56:04,466] Trial 21 finished with value: 0.7644024136851393 and parameters: {'num_layers': 3, 'num_neurons': 128, 'dropout_rate': 0.2, 'lr': 0.001, 'batch_size': 256, 'optimizer': 'adam'}. Best is trial 14 with value: 0.7768408618677596.\n",
      "[I 2025-11-01 11:57:06,196] Trial 22 finished with value: 0.7763818916688014 and parameters: {'num_layers': 3, 'num_neurons': 128, 'dropout_rate': 0.2, 'lr': 0.01, 'batch_size': 256, 'optimizer': 'adam'}. Best is trial 14 with value: 0.7768408618677596.\n",
      "[I 2025-11-01 11:57:54,810] Trial 23 finished with value: 0.7725429083767398 and parameters: {'num_layers': 2, 'num_neurons': 128, 'dropout_rate': 0.2, 'lr': 0.01, 'batch_size': 256, 'optimizer': 'adam'}. Best is trial 14 with value: 0.7768408618677596.\n",
      "[I 2025-11-01 11:58:59,008] Trial 24 finished with value: 0.7758731107505764 and parameters: {'num_layers': 3, 'num_neurons': 128, 'dropout_rate': 0.2, 'lr': 0.01, 'batch_size': 256, 'optimizer': 'adam'}. Best is trial 14 with value: 0.7768408618677596.\n",
      "[I 2025-11-01 11:59:02,742] Trial 25 pruned. \n",
      "[I 2025-11-01 11:59:03,823] Trial 26 pruned. \n",
      "[I 2025-11-01 12:00:05,852] Trial 27 finished with value: 0.7570019639655026 and parameters: {'num_layers': 3, 'num_neurons': 128, 'dropout_rate': 0.2, 'lr': 0.01, 'batch_size': 256, 'optimizer': 'adam'}. Best is trial 14 with value: 0.7768408618677596.\n",
      "[I 2025-11-01 12:01:05,908] Trial 28 finished with value: 0.763562747274642 and parameters: {'num_layers': 3, 'num_neurons': 128, 'dropout_rate': 0.2, 'lr': 0.01, 'batch_size': 256, 'optimizer': 'adam'}. Best is trial 14 with value: 0.7768408618677596.\n",
      "[I 2025-11-01 12:02:09,318] Trial 29 finished with value: 0.7892508467822275 and parameters: {'num_layers': 3, 'num_neurons': 128, 'dropout_rate': 0.2, 'lr': 0.01, 'batch_size': 256, 'optimizer': 'adam'}. Best is trial 29 with value: 0.7892508467822275.\n",
      "[I 2025-11-01 12:02:13,188] Trial 30 pruned. \n",
      "[I 2025-11-01 12:02:15,146] Trial 31 pruned. \n",
      "[I 2025-11-01 12:02:23,785] Trial 32 pruned. \n",
      "[I 2025-11-01 12:02:25,654] Trial 33 pruned. \n",
      "[I 2025-11-01 12:02:26,177] Trial 34 pruned. \n",
      "[I 2025-11-01 12:02:28,006] Trial 35 pruned. \n",
      "[I 2025-11-01 12:02:28,552] Trial 36 pruned. \n",
      "[I 2025-11-01 12:03:30,866] Trial 37 finished with value: 0.7725856032789685 and parameters: {'num_layers': 3, 'num_neurons': 128, 'dropout_rate': 0.2, 'lr': 0.01, 'batch_size': 256, 'optimizer': 'adam'}. Best is trial 29 with value: 0.7892508467822275.\n",
      "[I 2025-11-01 12:03:31,288] Trial 38 pruned. \n",
      "[I 2025-11-01 12:03:31,850] Trial 39 pruned. \n",
      "[I 2025-11-01 12:03:32,882] Trial 40 pruned. \n",
      "[I 2025-11-01 12:03:33,732] Trial 41 pruned. \n",
      "[I 2025-11-01 12:03:38,026] Trial 42 pruned. \n",
      "[I 2025-11-01 12:03:38,876] Trial 43 pruned. \n",
      "[I 2025-11-01 12:03:39,746] Trial 44 pruned. \n",
      "[I 2025-11-01 12:03:41,157] Trial 45 pruned. \n",
      "[I 2025-11-01 12:03:41,564] Trial 46 pruned. \n",
      "[I 2025-11-01 12:03:42,867] Trial 47 pruned. \n",
      "[I 2025-11-01 12:03:43,317] Trial 48 pruned. \n",
      "[I 2025-11-01 12:03:43,663] Trial 49 pruned. \n"
     ]
    },
    {
     "name": "stdout",
     "output_type": "stream",
     "text": [
      "Best trial final validation AUC: 0.7893\n",
      "Best trial config: {'num_layers': 3, 'num_neurons': 128, 'dropout_rate': 0.2, 'lr': 0.01, 'batch_size': 256, 'optimizer': 'adam'}\n"
     ]
    }
   ],
   "source": [
    "print(\"\\nStarting Hyperparameter Tuning\")\n",
    "\n",
    "#max AUC\n",
    "study = optuna.create_study(direction=\"maximize\", pruner=optuna.pruners.MedianPruner())\n",
    "study.optimize(objective, n_trials=50) \n",
    "\n",
    "#save best trial and best config\n",
    "best_trial = study.best_trial\n",
    "best_config = best_trial.params\n",
    "\n",
    "print(f\"Best trial final validation AUC: {best_trial.value:.4f}\")\n",
    "print(f\"Best trial config: {best_config}\")"
   ]
  },
  {
   "cell_type": "code",
   "execution_count": 38,
   "id": "53bfadc3",
   "metadata": {},
   "outputs": [
    {
     "name": "stdout",
     "output_type": "stream",
     "text": [
      "\n",
      "Training Best Model\n",
      "Epoch 1/80, Train Loss: 2.2031, Val Loss: 2.5692, Val Acc: 0.2770, Val AUC: 0.6702\n",
      "Epoch 2/80, Train Loss: 1.4478, Val Loss: 2.1168, Val Acc: 0.4889, Val AUC: 0.7165\n",
      "Epoch 3/80, Train Loss: 1.2445, Val Loss: 2.3858, Val Acc: 0.5447, Val AUC: 0.6928\n",
      "Epoch 4/80, Train Loss: 1.0820, Val Loss: 2.3504, Val Acc: 0.6754, Val AUC: 0.7373\n",
      "Epoch 5/80, Train Loss: 1.0444, Val Loss: 2.3131, Val Acc: 0.6332, Val AUC: 0.7233\n",
      "Epoch 6/80, Train Loss: 1.0159, Val Loss: 2.3571, Val Acc: 0.6438, Val AUC: 0.7224\n",
      "Epoch 7/80, Train Loss: 0.9282, Val Loss: 2.3006, Val Acc: 0.6671, Val AUC: 0.7376\n",
      "Epoch 8/80, Train Loss: 0.8965, Val Loss: 2.5402, Val Acc: 0.6963, Val AUC: 0.7337\n",
      "Epoch 9/80, Train Loss: 0.9220, Val Loss: 2.6420, Val Acc: 0.7161, Val AUC: 0.7259\n",
      "Epoch 10/80, Train Loss: 0.8307, Val Loss: 2.8997, Val Acc: 0.7257, Val AUC: 0.7376\n",
      "Epoch 11/80, Train Loss: 0.8742, Val Loss: 2.6386, Val Acc: 0.6839, Val AUC: 0.7351\n",
      "Epoch 12/80, Train Loss: 0.7319, Val Loss: 3.1448, Val Acc: 0.7689, Val AUC: 0.7500\n",
      "Epoch 13/80, Train Loss: 0.6763, Val Loss: 3.1546, Val Acc: 0.7734, Val AUC: 0.7507\n",
      "Epoch 14/80, Train Loss: 0.6193, Val Loss: 3.9020, Val Acc: 0.8159, Val AUC: 0.7538\n",
      "Epoch 15/80, Train Loss: 0.6281, Val Loss: 3.8450, Val Acc: 0.7679, Val AUC: 0.7283\n",
      "Epoch 16/80, Train Loss: 0.6274, Val Loss: 3.3579, Val Acc: 0.7916, Val AUC: 0.7395\n",
      "Epoch 17/80, Train Loss: 0.5940, Val Loss: 3.4961, Val Acc: 0.8053, Val AUC: 0.7583\n",
      "Epoch 18/80, Train Loss: 0.5956, Val Loss: 3.7649, Val Acc: 0.8060, Val AUC: 0.7395\n",
      "Epoch 19/80, Train Loss: 0.5961, Val Loss: 3.4427, Val Acc: 0.7988, Val AUC: 0.7562\n",
      "Epoch 20/80, Train Loss: 0.5968, Val Loss: 4.0674, Val Acc: 0.8046, Val AUC: 0.7383\n",
      "Epoch 21/80, Train Loss: 0.5973, Val Loss: 3.3716, Val Acc: 0.8001, Val AUC: 0.7608\n",
      "Epoch 22/80, Train Loss: 0.5553, Val Loss: 4.1705, Val Acc: 0.8186, Val AUC: 0.7470\n",
      "Epoch 23/80, Train Loss: 0.5567, Val Loss: 4.5659, Val Acc: 0.8258, Val AUC: 0.7597\n",
      "Epoch 24/80, Train Loss: 0.5956, Val Loss: 3.6300, Val Acc: 0.8162, Val AUC: 0.7707\n",
      "Epoch 25/80, Train Loss: 0.5576, Val Loss: 4.1585, Val Acc: 0.8204, Val AUC: 0.7672\n",
      "Epoch 26/80, Train Loss: 0.6156, Val Loss: 3.4961, Val Acc: 0.8087, Val AUC: 0.7656\n",
      "Epoch 27/80, Train Loss: 0.5402, Val Loss: 4.4709, Val Acc: 0.8269, Val AUC: 0.7546\n",
      "Epoch 28/80, Train Loss: 0.5838, Val Loss: 4.0354, Val Acc: 0.8015, Val AUC: 0.7539\n",
      "Epoch 29/80, Train Loss: 0.5212, Val Loss: 4.6311, Val Acc: 0.8433, Val AUC: 0.7580\n",
      "Epoch 30/80, Train Loss: 0.4952, Val Loss: 4.6628, Val Acc: 0.8392, Val AUC: 0.7494\n",
      "Epoch 31/80, Train Loss: 0.4573, Val Loss: 4.9011, Val Acc: 0.8516, Val AUC: 0.7588\n",
      "Epoch 32/80, Train Loss: 0.4672, Val Loss: 5.0161, Val Acc: 0.8581, Val AUC: 0.7518\n",
      "Epoch 33/80, Train Loss: 0.4327, Val Loss: 5.1514, Val Acc: 0.8588, Val AUC: 0.7576\n",
      "Epoch 34/80, Train Loss: 0.4145, Val Loss: 5.2140, Val Acc: 0.8660, Val AUC: 0.7598\n",
      "Early stopping triggered at epoch 34\n"
     ]
    },
    {
     "data": {
      "text/plain": [
       "<All keys matched successfully>"
      ]
     },
     "execution_count": 38,
     "metadata": {},
     "output_type": "execute_result"
    }
   ],
   "source": [
    "print(\"\\nTraining Best Model\")\n",
    "\n",
    "best_model = NN_Tune(\n",
    "    input_size=X_train_tensor.shape[1],\n",
    "    num_layers=best_config[\"num_layers\"],\n",
    "    num_neurons=best_config[\"num_neurons\"],\n",
    "    dropout_rate=best_config[\"dropout_rate\"]\n",
    ").to(device)\n",
    "\n",
    "#create loaders with the best batch size\n",
    "train_loader_best = DataLoader(train_dataset, batch_size=best_config[\"batch_size\"], shuffle=True)\n",
    "val_loader_best = DataLoader(val_dataset, batch_size=best_config[\"batch_size\"])\n",
    "\n",
    "#use best optimizer and lr\n",
    "if best_config[\"optimizer\"] == \"adam\":\n",
    "    optimizer = optim.Adam(best_model.parameters(), lr=best_config[\"lr\"], weight_decay=1e-4)\n",
    "else:\n",
    "    optimizer = optim.SGD(best_model.parameters(), lr=best_config[\"lr\"], momentum=0.9)\n",
    "\n",
    "criterion = nn.BCEWithLogitsLoss(pos_weight=pos_weight)\n",
    "scheduler = ReduceLROnPlateau(optimizer, mode=\"max\", factor=0.5, patience=3) \n",
    "\n",
    "epochs = 80\n",
    "patience = 10\n",
    "best_val_auc = float(\"-inf\") \n",
    "early_stop_counter = 0\n",
    "best_state_dict = copy.deepcopy(best_model.state_dict())\n",
    "\n",
    "for epoch in range(epochs):\n",
    "    train_loss_total = 0.0\n",
    "    best_model.train() #train\n",
    "    for X_batch, Y_batch in train_loader_best:\n",
    "        X_batch, Y_batch = X_batch.to(device), Y_batch.to(device)\n",
    "        optimizer.zero_grad()\n",
    "        logits = best_model(X_batch)\n",
    "        loss = criterion(logits, Y_batch)\n",
    "        loss.backward()\n",
    "        optimizer.step()\n",
    "        train_loss_total += loss.item()\n",
    "    avg_train_loss = train_loss_total / len(train_loader_best)\n",
    "\n",
    "    val_loss_total = 0.0\n",
    "    val_logits = []\n",
    "    val_targets = []\n",
    "    best_model.eval() #evaluate\n",
    "    with torch.no_grad():\n",
    "        for X_batch, Y_batch in val_loader_best:\n",
    "            X_batch, Y_batch = X_batch.to(device), Y_batch.to(device)\n",
    "            logits = best_model(X_batch)\n",
    "            loss = criterion(logits, Y_batch)\n",
    "            val_loss_total += loss.item()\n",
    "            val_logits.append(logits.cpu())\n",
    "            val_targets.append(Y_batch.cpu())\n",
    "    avg_val_loss = val_loss_total / len(val_loader_best)\n",
    "\n",
    "    logits_tensor = torch.cat(val_logits).squeeze()\n",
    "    targets_tensor = torch.cat(val_targets).squeeze()\n",
    "    probs = torch.sigmoid(logits_tensor)\n",
    "    val_accuracy = (probs.round() == targets_tensor).float().mean().item()\n",
    "\n",
    "    try:\n",
    "        val_auc = roc_auc_score(targets_tensor.numpy(), probs.numpy())\n",
    "    except ValueError:\n",
    "        val_auc = 0.5\n",
    "\n",
    "    scheduler.step(val_auc)\n",
    "    \n",
    "    print(\n",
    "        f\"Epoch {epoch + 1}/{epochs}, Train Loss: {avg_train_loss:.4f}, Val Loss: {avg_val_loss:.4f}, Val Acc: {val_accuracy:.4f}, Val AUC: {val_auc:.4f}\"\n",
    "    )\n",
    "\n",
    "    if val_auc > best_val_auc:\n",
    "        best_val_auc = val_auc\n",
    "        early_stop_counter = 0\n",
    "        best_state_dict = copy.deepcopy(best_model.state_dict())\n",
    "    else:\n",
    "        early_stop_counter += 1\n",
    "        if early_stop_counter >= patience:\n",
    "            print(f\"Early stopping triggered at epoch {epoch + 1}\")\n",
    "            break\n",
    "\n",
    "best_model.load_state_dict(best_state_dict)\n"
   ]
  },
  {
   "cell_type": "code",
   "execution_count": 39,
   "id": "981b088f",
   "metadata": {},
   "outputs": [
    {
     "name": "stdout",
     "output_type": "stream",
     "text": [
      "Classification Report (Threshold = 0.5):\n",
      "              precision    recall  f1-score   support\n",
      "\n",
      "           0       0.99      0.81      0.89      7169\n",
      "           1       0.05      0.55      0.09       123\n",
      "\n",
      "    accuracy                           0.81      7292\n",
      "   macro avg       0.52      0.68      0.49      7292\n",
      "weighted avg       0.97      0.81      0.88      7292\n",
      "\n",
      "Confusion Matrix:\n",
      "[[5818 1351]\n",
      " [  55   68]]\n",
      "ROC AUC Score: 0.699764795806697\n"
     ]
    }
   ],
   "source": [
    "test_loader_final = DataLoader(test_dataset, batch_size=best_config[\"batch_size\"])\n",
    "best_model.eval()\n",
    "test_logits = []\n",
    "test_targets = []\n",
    "\n",
    "with torch.no_grad():\n",
    "    for X_batch, Y_batch in test_loader_final:\n",
    "        X_batch = X_batch.to(device)\n",
    "        Y_batch = Y_batch.to(device)\n",
    "        logits = best_model(X_batch)\n",
    "        test_logits.append(logits.cpu())\n",
    "        test_targets.append(Y_batch.cpu())\n",
    "\n",
    "test_logits = torch.cat(test_logits).squeeze()\n",
    "test_targets = torch.cat(test_targets).squeeze()\n",
    "\n",
    "test_probs = torch.sigmoid(test_logits).numpy()\n",
    "test_preds = (test_probs >= 0.5).astype(int)\n",
    "test_targets_np = test_targets.numpy().astype(int)\n",
    "\n",
    "print(\"Classification Report (Threshold = 0.5):\")\n",
    "print(classification_report(test_targets_np, test_preds))\n",
    "print(\"Confusion Matrix:\")\n",
    "print(confusion_matrix(test_targets_np, test_preds))\n",
    "print(\"ROC AUC Score:\", roc_auc_score(test_targets_np, test_probs))"
   ]
  },
  {
   "cell_type": "markdown",
   "id": "ee3ac9ac",
   "metadata": {},
   "source": [
    "### Get optimal threshold for further tuning"
   ]
  },
  {
   "cell_type": "code",
   "execution_count": 40,
   "id": "a1536516",
   "metadata": {},
   "outputs": [
    {
     "name": "stdout",
     "output_type": "stream",
     "text": [
      "Best threshold 0.9500 with F1-score 0.1116 on validation set\n",
      "Classification Report (Threshold = 0.9500):\n",
      "              precision    recall  f1-score   support\n",
      "\n",
      "           0       0.99      0.87      0.93      7169\n",
      "           1       0.06      0.45      0.10       123\n",
      "\n",
      "    accuracy                           0.87      7292\n",
      "   macro avg       0.52      0.66      0.51      7292\n",
      "weighted avg       0.97      0.87      0.91      7292\n",
      "\n",
      "Confusion Matrix:\n",
      "[[6264  905]\n",
      " [  68   55]]\n",
      "ROC AUC Score: 0.699764795806697\n"
     ]
    }
   ],
   "source": [
    "val_loader_final = DataLoader(val_dataset, batch_size=best_config[\"batch_size\"])\n",
    "val_logits = []\n",
    "val_targets = []\n",
    "with torch.no_grad():\n",
    "    for X_batch, Y_batch in val_loader_final:\n",
    "        X_batch, Y_batch = X_batch.to(device), Y_batch.to(device)\n",
    "        logits = best_model(X_batch)\n",
    "        val_logits.append(logits.cpu())\n",
    "        val_targets.append(Y_batch.cpu())\n",
    "\n",
    "val_logits = torch.cat(val_logits).squeeze()\n",
    "val_targets = torch.cat(val_targets).squeeze()\n",
    "val_probs = torch.sigmoid(val_logits).numpy()\n",
    "val_true = val_targets.numpy().astype(int)\n",
    "\n",
    "thresholds = np.linspace(0.05, 0.95, 100)\n",
    "scores = []\n",
    "for thr in thresholds:\n",
    "    preds = (val_probs >= thr).astype(int)\n",
    "    scores.append((thr, f1_score(val_true, preds, pos_label=1)))\n",
    "\n",
    "best_thr, best_f1 = max(scores, key=lambda x: x[1])\n",
    "print(f\"Best threshold {best_thr:.4f} with F1-score {best_f1:.4f} on validation set\")\n",
    "test_preds_tuned = (test_probs >= best_thr).astype(int)\n",
    "print(f\"Classification Report (Threshold = {best_thr:.4f}):\")\n",
    "print(classification_report(test_targets_np, test_preds_tuned))\n",
    "print(\"Confusion Matrix:\")\n",
    "print(confusion_matrix(test_targets_np, test_preds_tuned))\n",
    "try:\n",
    "    print(\"ROC AUC Score:\", roc_auc_score(test_targets_np, test_probs))\n",
    "except ValueError:\n",
    "    print(\"ROC AUC Score: NaN (only one class present)\")"
   ]
  }
 ],
 "metadata": {
  "kernelspec": {
   "display_name": "venv (3.13.5)",
   "language": "python",
   "name": "python3"
  },
  "language_info": {
   "codemirror_mode": {
    "name": "ipython",
    "version": 3
   },
   "file_extension": ".py",
   "mimetype": "text/x-python",
   "name": "python",
   "nbconvert_exporter": "python",
   "pygments_lexer": "ipython3",
   "version": "3.13.5"
  }
 },
 "nbformat": 4,
 "nbformat_minor": 5
}
